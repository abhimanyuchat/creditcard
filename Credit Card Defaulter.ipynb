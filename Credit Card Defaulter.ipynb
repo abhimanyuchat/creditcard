{
 "cells": [
  {
   "cell_type": "code",
   "execution_count": 2,
   "id": "e276a511",
   "metadata": {},
   "outputs": [
    {
     "data": {
      "text/plain": [
       "<Figure size 1080x576 with 0 Axes>"
      ]
     },
     "execution_count": 2,
     "metadata": {},
     "output_type": "execute_result"
    },
    {
     "data": {
      "text/plain": [
       "<Figure size 1080x576 with 0 Axes>"
      ]
     },
     "metadata": {},
     "output_type": "display_data"
    }
   ],
   "source": [
    "import numpy as np\n",
    "import pandas as pd\n",
    "import matplotlib.pyplot as plt\n",
    "import seaborn as sns\n",
    "from sklearn.model_selection import train_test_split\n",
    "from sklearn.linear_model import LogisticRegression\n",
    "from sklearn.preprocessing import MinMaxScaler\n",
    "from sklearn.preprocessing import StandardScaler\n",
    "from sklearn.model_selection import GridSearchCV\n",
    "from sklearn.neighbors import KNeighborsClassifier\n",
    "from sklearn.svm import SVC\n",
    "from sklearn import tree\n",
    "import scipy\n",
    "from sklearn.metrics import  precision_recall_curve, roc_auc_score, confusion_matrix, accuracy_score, recall_score, precision_score, f1_score,auc, roc_curve, plot_confusion_matrix\n",
    "\n",
    "plt.figure(figsize=[15,8])"
   ]
  },
  {
   "cell_type": "code",
   "execution_count": 3,
   "id": "14e0b5db",
   "metadata": {},
   "outputs": [],
   "source": [
    "seed = 42"
   ]
  },
  {
   "cell_type": "code",
   "execution_count": 4,
   "id": "5b201f5a",
   "metadata": {},
   "outputs": [],
   "source": [
    "df = pd.read_csv(\"lending_club_loan_dataset.csv\")"
   ]
  },
  {
   "cell_type": "code",
   "execution_count": null,
   "id": "a7318b64",
   "metadata": {},
   "outputs": [],
   "source": []
  },
  {
   "cell_type": "code",
   "execution_count": 5,
   "id": "22c29d83",
   "metadata": {},
   "outputs": [
    {
     "data": {
      "text/html": [
       "<div>\n",
       "<style scoped>\n",
       "    .dataframe tbody tr th:only-of-type {\n",
       "        vertical-align: middle;\n",
       "    }\n",
       "\n",
       "    .dataframe tbody tr th {\n",
       "        vertical-align: top;\n",
       "    }\n",
       "\n",
       "    .dataframe thead th {\n",
       "        text-align: right;\n",
       "    }\n",
       "</style>\n",
       "<table border=\"1\" class=\"dataframe\">\n",
       "  <thead>\n",
       "    <tr style=\"text-align: right;\">\n",
       "      <th></th>\n",
       "      <th>id</th>\n",
       "      <th>grade</th>\n",
       "      <th>annual_inc</th>\n",
       "      <th>short_emp</th>\n",
       "      <th>emp_length_num</th>\n",
       "      <th>home_ownership</th>\n",
       "      <th>dti</th>\n",
       "      <th>purpose</th>\n",
       "      <th>term</th>\n",
       "      <th>last_delinq_none</th>\n",
       "      <th>last_major_derog_none</th>\n",
       "      <th>revol_util</th>\n",
       "      <th>total_rec_late_fee</th>\n",
       "      <th>od_ratio</th>\n",
       "      <th>bad_loan</th>\n",
       "    </tr>\n",
       "  </thead>\n",
       "  <tbody>\n",
       "    <tr>\n",
       "      <th>0</th>\n",
       "      <td>11454641</td>\n",
       "      <td>A</td>\n",
       "      <td>100000.0</td>\n",
       "      <td>1</td>\n",
       "      <td>1</td>\n",
       "      <td>RENT</td>\n",
       "      <td>26.27</td>\n",
       "      <td>credit_card</td>\n",
       "      <td>36 months</td>\n",
       "      <td>1</td>\n",
       "      <td>NaN</td>\n",
       "      <td>43.2</td>\n",
       "      <td>0.0</td>\n",
       "      <td>0.160624</td>\n",
       "      <td>0</td>\n",
       "    </tr>\n",
       "    <tr>\n",
       "      <th>1</th>\n",
       "      <td>9604874</td>\n",
       "      <td>A</td>\n",
       "      <td>83000.0</td>\n",
       "      <td>0</td>\n",
       "      <td>4</td>\n",
       "      <td>OWN</td>\n",
       "      <td>5.39</td>\n",
       "      <td>credit_card</td>\n",
       "      <td>36 months</td>\n",
       "      <td>0</td>\n",
       "      <td>NaN</td>\n",
       "      <td>21.5</td>\n",
       "      <td>0.0</td>\n",
       "      <td>0.810777</td>\n",
       "      <td>0</td>\n",
       "    </tr>\n",
       "    <tr>\n",
       "      <th>2</th>\n",
       "      <td>9684700</td>\n",
       "      <td>D</td>\n",
       "      <td>78000.0</td>\n",
       "      <td>0</td>\n",
       "      <td>11</td>\n",
       "      <td>MORTGAGE</td>\n",
       "      <td>18.45</td>\n",
       "      <td>debt_consolidation</td>\n",
       "      <td>60 months</td>\n",
       "      <td>1</td>\n",
       "      <td>NaN</td>\n",
       "      <td>46.3</td>\n",
       "      <td>0.0</td>\n",
       "      <td>0.035147</td>\n",
       "      <td>1</td>\n",
       "    </tr>\n",
       "    <tr>\n",
       "      <th>3</th>\n",
       "      <td>9695736</td>\n",
       "      <td>D</td>\n",
       "      <td>37536.0</td>\n",
       "      <td>0</td>\n",
       "      <td>6</td>\n",
       "      <td>MORTGAGE</td>\n",
       "      <td>12.28</td>\n",
       "      <td>medical</td>\n",
       "      <td>60 months</td>\n",
       "      <td>0</td>\n",
       "      <td>NaN</td>\n",
       "      <td>10.7</td>\n",
       "      <td>0.0</td>\n",
       "      <td>0.534887</td>\n",
       "      <td>1</td>\n",
       "    </tr>\n",
       "    <tr>\n",
       "      <th>4</th>\n",
       "      <td>9795013</td>\n",
       "      <td>D</td>\n",
       "      <td>65000.0</td>\n",
       "      <td>0</td>\n",
       "      <td>11</td>\n",
       "      <td>MORTGAGE</td>\n",
       "      <td>11.26</td>\n",
       "      <td>debt_consolidation</td>\n",
       "      <td>36 months</td>\n",
       "      <td>0</td>\n",
       "      <td>NaN</td>\n",
       "      <td>15.2</td>\n",
       "      <td>0.0</td>\n",
       "      <td>0.166500</td>\n",
       "      <td>0</td>\n",
       "    </tr>\n",
       "  </tbody>\n",
       "</table>\n",
       "</div>"
      ],
      "text/plain": [
       "         id grade  annual_inc  short_emp  emp_length_num home_ownership  \\\n",
       "0  11454641     A    100000.0          1               1           RENT   \n",
       "1   9604874     A     83000.0          0               4            OWN   \n",
       "2   9684700     D     78000.0          0              11       MORTGAGE   \n",
       "3   9695736     D     37536.0          0               6       MORTGAGE   \n",
       "4   9795013     D     65000.0          0              11       MORTGAGE   \n",
       "\n",
       "     dti             purpose        term  last_delinq_none  \\\n",
       "0  26.27         credit_card   36 months                 1   \n",
       "1   5.39         credit_card   36 months                 0   \n",
       "2  18.45  debt_consolidation   60 months                 1   \n",
       "3  12.28             medical   60 months                 0   \n",
       "4  11.26  debt_consolidation   36 months                 0   \n",
       "\n",
       "   last_major_derog_none  revol_util  total_rec_late_fee  od_ratio  bad_loan  \n",
       "0                    NaN        43.2                 0.0  0.160624         0  \n",
       "1                    NaN        21.5                 0.0  0.810777         0  \n",
       "2                    NaN        46.3                 0.0  0.035147         1  \n",
       "3                    NaN        10.7                 0.0  0.534887         1  \n",
       "4                    NaN        15.2                 0.0  0.166500         0  "
      ]
     },
     "execution_count": 5,
     "metadata": {},
     "output_type": "execute_result"
    }
   ],
   "source": [
    "df.head()"
   ]
  },
  {
   "cell_type": "code",
   "execution_count": 6,
   "id": "cf70e5dd",
   "metadata": {},
   "outputs": [
    {
     "data": {
      "text/plain": [
       " 36 months    15001\n",
       " 60 months     4999\n",
       "Name: term, dtype: int64"
      ]
     },
     "execution_count": 6,
     "metadata": {},
     "output_type": "execute_result"
    }
   ],
   "source": [
    "df['term'] = df['term'].str.lower()\n",
    "df['term'].value_counts()\n",
    "#Correcting the error of showing 36 Months in some ways, so we convert all the values in the column to lowercase.\n",
    "\n",
    "#Here we can see that the majority of the people (75%) request a 3 year loan, whereas the rest 25% request 60 month"
   ]
  },
  {
   "cell_type": "code",
   "execution_count": null,
   "id": "1a0c61a5",
   "metadata": {},
   "outputs": [],
   "source": []
  },
  {
   "cell_type": "code",
   "execution_count": 7,
   "id": "0f928749",
   "metadata": {},
   "outputs": [
    {
     "data": {
      "text/plain": [
       "id                           0\n",
       "grade                        0\n",
       "annual_inc                   0\n",
       "short_emp                    0\n",
       "emp_length_num               0\n",
       "home_ownership            1491\n",
       "dti                        154\n",
       "purpose                      0\n",
       "term                         0\n",
       "last_delinq_none             0\n",
       "last_major_derog_none    19426\n",
       "revol_util                   0\n",
       "total_rec_late_fee           0\n",
       "od_ratio                     0\n",
       "bad_loan                     0\n",
       "dtype: int64"
      ]
     },
     "execution_count": 7,
     "metadata": {},
     "output_type": "execute_result"
    }
   ],
   "source": [
    "df.isnull().sum()"
   ]
  },
  {
   "cell_type": "code",
   "execution_count": 8,
   "id": "c343a6db",
   "metadata": {},
   "outputs": [
    {
     "data": {
      "text/html": [
       "<div>\n",
       "<style scoped>\n",
       "    .dataframe tbody tr th:only-of-type {\n",
       "        vertical-align: middle;\n",
       "    }\n",
       "\n",
       "    .dataframe tbody tr th {\n",
       "        vertical-align: top;\n",
       "    }\n",
       "\n",
       "    .dataframe thead th {\n",
       "        text-align: right;\n",
       "    }\n",
       "</style>\n",
       "<table border=\"1\" class=\"dataframe\">\n",
       "  <thead>\n",
       "    <tr style=\"text-align: right;\">\n",
       "      <th></th>\n",
       "      <th>id</th>\n",
       "      <th>annual_inc</th>\n",
       "      <th>short_emp</th>\n",
       "      <th>emp_length_num</th>\n",
       "      <th>dti</th>\n",
       "      <th>last_delinq_none</th>\n",
       "      <th>last_major_derog_none</th>\n",
       "      <th>revol_util</th>\n",
       "      <th>total_rec_late_fee</th>\n",
       "      <th>od_ratio</th>\n",
       "      <th>bad_loan</th>\n",
       "    </tr>\n",
       "  </thead>\n",
       "  <tbody>\n",
       "    <tr>\n",
       "      <th>id</th>\n",
       "      <td>1.000000</td>\n",
       "      <td>0.017971</td>\n",
       "      <td>0.015413</td>\n",
       "      <td>0.003863</td>\n",
       "      <td>0.006407</td>\n",
       "      <td>-0.034091</td>\n",
       "      <td>-0.051439</td>\n",
       "      <td>-0.006106</td>\n",
       "      <td>-0.014203</td>\n",
       "      <td>0.000465</td>\n",
       "      <td>-0.037307</td>\n",
       "    </tr>\n",
       "    <tr>\n",
       "      <th>annual_inc</th>\n",
       "      <td>0.017971</td>\n",
       "      <td>1.000000</td>\n",
       "      <td>-0.099317</td>\n",
       "      <td>0.118024</td>\n",
       "      <td>-0.230219</td>\n",
       "      <td>-0.080378</td>\n",
       "      <td>0.023281</td>\n",
       "      <td>0.016951</td>\n",
       "      <td>0.014713</td>\n",
       "      <td>-0.004953</td>\n",
       "      <td>-0.092402</td>\n",
       "    </tr>\n",
       "    <tr>\n",
       "      <th>short_emp</th>\n",
       "      <td>0.015413</td>\n",
       "      <td>-0.099317</td>\n",
       "      <td>1.000000</td>\n",
       "      <td>-0.582580</td>\n",
       "      <td>0.002013</td>\n",
       "      <td>0.030880</td>\n",
       "      <td>0.072290</td>\n",
       "      <td>-0.011014</td>\n",
       "      <td>0.010424</td>\n",
       "      <td>-0.005309</td>\n",
       "      <td>0.037186</td>\n",
       "    </tr>\n",
       "    <tr>\n",
       "      <th>emp_length_num</th>\n",
       "      <td>0.003863</td>\n",
       "      <td>0.118024</td>\n",
       "      <td>-0.582580</td>\n",
       "      <td>1.000000</td>\n",
       "      <td>0.009369</td>\n",
       "      <td>-0.053371</td>\n",
       "      <td>-0.158177</td>\n",
       "      <td>0.027390</td>\n",
       "      <td>-0.012382</td>\n",
       "      <td>0.004446</td>\n",
       "      <td>-0.041420</td>\n",
       "    </tr>\n",
       "    <tr>\n",
       "      <th>dti</th>\n",
       "      <td>0.006407</td>\n",
       "      <td>-0.230219</td>\n",
       "      <td>0.002013</td>\n",
       "      <td>0.009369</td>\n",
       "      <td>1.000000</td>\n",
       "      <td>0.030379</td>\n",
       "      <td>0.004079</td>\n",
       "      <td>0.098673</td>\n",
       "      <td>0.011072</td>\n",
       "      <td>0.005571</td>\n",
       "      <td>0.141884</td>\n",
       "    </tr>\n",
       "    <tr>\n",
       "      <th>last_delinq_none</th>\n",
       "      <td>-0.034091</td>\n",
       "      <td>-0.080378</td>\n",
       "      <td>0.030880</td>\n",
       "      <td>-0.053371</td>\n",
       "      <td>0.030379</td>\n",
       "      <td>1.000000</td>\n",
       "      <td>0.603267</td>\n",
       "      <td>0.013373</td>\n",
       "      <td>-0.011000</td>\n",
       "      <td>-0.001996</td>\n",
       "      <td>0.021494</td>\n",
       "    </tr>\n",
       "    <tr>\n",
       "      <th>last_major_derog_none</th>\n",
       "      <td>-0.051439</td>\n",
       "      <td>0.023281</td>\n",
       "      <td>0.072290</td>\n",
       "      <td>-0.158177</td>\n",
       "      <td>0.004079</td>\n",
       "      <td>0.603267</td>\n",
       "      <td>1.000000</td>\n",
       "      <td>-0.027597</td>\n",
       "      <td>-0.086395</td>\n",
       "      <td>0.050211</td>\n",
       "      <td>-0.013770</td>\n",
       "    </tr>\n",
       "    <tr>\n",
       "      <th>revol_util</th>\n",
       "      <td>-0.006106</td>\n",
       "      <td>0.016951</td>\n",
       "      <td>-0.011014</td>\n",
       "      <td>0.027390</td>\n",
       "      <td>0.098673</td>\n",
       "      <td>0.013373</td>\n",
       "      <td>-0.027597</td>\n",
       "      <td>1.000000</td>\n",
       "      <td>0.008435</td>\n",
       "      <td>-0.008228</td>\n",
       "      <td>0.053682</td>\n",
       "    </tr>\n",
       "    <tr>\n",
       "      <th>total_rec_late_fee</th>\n",
       "      <td>-0.014203</td>\n",
       "      <td>0.014713</td>\n",
       "      <td>0.010424</td>\n",
       "      <td>-0.012382</td>\n",
       "      <td>0.011072</td>\n",
       "      <td>-0.011000</td>\n",
       "      <td>-0.086395</td>\n",
       "      <td>0.008435</td>\n",
       "      <td>1.000000</td>\n",
       "      <td>-0.002354</td>\n",
       "      <td>0.130233</td>\n",
       "    </tr>\n",
       "    <tr>\n",
       "      <th>od_ratio</th>\n",
       "      <td>0.000465</td>\n",
       "      <td>-0.004953</td>\n",
       "      <td>-0.005309</td>\n",
       "      <td>0.004446</td>\n",
       "      <td>0.005571</td>\n",
       "      <td>-0.001996</td>\n",
       "      <td>0.050211</td>\n",
       "      <td>-0.008228</td>\n",
       "      <td>-0.002354</td>\n",
       "      <td>1.000000</td>\n",
       "      <td>0.000403</td>\n",
       "    </tr>\n",
       "    <tr>\n",
       "      <th>bad_loan</th>\n",
       "      <td>-0.037307</td>\n",
       "      <td>-0.092402</td>\n",
       "      <td>0.037186</td>\n",
       "      <td>-0.041420</td>\n",
       "      <td>0.141884</td>\n",
       "      <td>0.021494</td>\n",
       "      <td>-0.013770</td>\n",
       "      <td>0.053682</td>\n",
       "      <td>0.130233</td>\n",
       "      <td>0.000403</td>\n",
       "      <td>1.000000</td>\n",
       "    </tr>\n",
       "  </tbody>\n",
       "</table>\n",
       "</div>"
      ],
      "text/plain": [
       "                             id  annual_inc  short_emp  emp_length_num  \\\n",
       "id                     1.000000    0.017971   0.015413        0.003863   \n",
       "annual_inc             0.017971    1.000000  -0.099317        0.118024   \n",
       "short_emp              0.015413   -0.099317   1.000000       -0.582580   \n",
       "emp_length_num         0.003863    0.118024  -0.582580        1.000000   \n",
       "dti                    0.006407   -0.230219   0.002013        0.009369   \n",
       "last_delinq_none      -0.034091   -0.080378   0.030880       -0.053371   \n",
       "last_major_derog_none -0.051439    0.023281   0.072290       -0.158177   \n",
       "revol_util            -0.006106    0.016951  -0.011014        0.027390   \n",
       "total_rec_late_fee    -0.014203    0.014713   0.010424       -0.012382   \n",
       "od_ratio               0.000465   -0.004953  -0.005309        0.004446   \n",
       "bad_loan              -0.037307   -0.092402   0.037186       -0.041420   \n",
       "\n",
       "                            dti  last_delinq_none  last_major_derog_none  \\\n",
       "id                     0.006407         -0.034091              -0.051439   \n",
       "annual_inc            -0.230219         -0.080378               0.023281   \n",
       "short_emp              0.002013          0.030880               0.072290   \n",
       "emp_length_num         0.009369         -0.053371              -0.158177   \n",
       "dti                    1.000000          0.030379               0.004079   \n",
       "last_delinq_none       0.030379          1.000000               0.603267   \n",
       "last_major_derog_none  0.004079          0.603267               1.000000   \n",
       "revol_util             0.098673          0.013373              -0.027597   \n",
       "total_rec_late_fee     0.011072         -0.011000              -0.086395   \n",
       "od_ratio               0.005571         -0.001996               0.050211   \n",
       "bad_loan               0.141884          0.021494              -0.013770   \n",
       "\n",
       "                       revol_util  total_rec_late_fee  od_ratio  bad_loan  \n",
       "id                      -0.006106           -0.014203  0.000465 -0.037307  \n",
       "annual_inc               0.016951            0.014713 -0.004953 -0.092402  \n",
       "short_emp               -0.011014            0.010424 -0.005309  0.037186  \n",
       "emp_length_num           0.027390           -0.012382  0.004446 -0.041420  \n",
       "dti                      0.098673            0.011072  0.005571  0.141884  \n",
       "last_delinq_none         0.013373           -0.011000 -0.001996  0.021494  \n",
       "last_major_derog_none   -0.027597           -0.086395  0.050211 -0.013770  \n",
       "revol_util               1.000000            0.008435 -0.008228  0.053682  \n",
       "total_rec_late_fee       0.008435            1.000000 -0.002354  0.130233  \n",
       "od_ratio                -0.008228           -0.002354  1.000000  0.000403  \n",
       "bad_loan                 0.053682            0.130233  0.000403  1.000000  "
      ]
     },
     "execution_count": 8,
     "metadata": {},
     "output_type": "execute_result"
    }
   ],
   "source": [
    "df.corr()"
   ]
  },
  {
   "cell_type": "code",
   "execution_count": 9,
   "id": "e415cfaa",
   "metadata": {},
   "outputs": [],
   "source": [
    "#Categorical variables - \n",
    "#purpose\n",
    "#home_ownership\n",
    "#term\n",
    "#grade\n"
   ]
  },
  {
   "cell_type": "code",
   "execution_count": 10,
   "id": "913d1bd1",
   "metadata": {},
   "outputs": [],
   "source": [
    "#We will now analyse all the categorial variables and see their behaviour"
   ]
  },
  {
   "cell_type": "code",
   "execution_count": 11,
   "id": "fe716e84",
   "metadata": {},
   "outputs": [
    {
     "data": {
      "text/plain": [
       "debt_consolidation    12337\n",
       "credit_card            4137\n",
       "home_improvement       1096\n",
       "other                  1021\n",
       "major_purchase          379\n",
       "small_business          265\n",
       "medical                 175\n",
       "car                     168\n",
       "moving                  123\n",
       "vacation                112\n",
       "house                   101\n",
       "wedding                  86\n",
       "Name: purpose, dtype: int64"
      ]
     },
     "execution_count": 11,
     "metadata": {},
     "output_type": "execute_result"
    }
   ],
   "source": [
    "df['purpose'].value_counts()\n",
    "#the most common purpose of taking a loan, by far, is debt consolidation"
   ]
  },
  {
   "cell_type": "code",
   "execution_count": 12,
   "id": "7a5e5fcc",
   "metadata": {},
   "outputs": [
    {
     "data": {
      "text/plain": [
       "<AxesSubplot:>"
      ]
     },
     "execution_count": 12,
     "metadata": {},
     "output_type": "execute_result"
    },
    {
     "data": {
      "image/png": "[encoded data removed]",
      "text/plain": [
       "<Figure size 432x288 with 1 Axes>"
      ]
     },
     "metadata": {
      "needs_background": "light"
     },
     "output_type": "display_data"
    }
   ],
   "source": [
    "#Analysing the grade column\n",
    "df['grade'].value_counts().plot(kind='bar')\n",
    "#We can see that most of the grades are either B or C\n",
    "#Slightly over 2000 loans have received the grade of A\n",
    "#So we can say that most of the loans are average, whereas really good or really bad loans are rare"
   ]
  },
  {
   "cell_type": "code",
   "execution_count": 13,
   "id": "3098a0bf",
   "metadata": {},
   "outputs": [
    {
     "data": {
      "text/plain": [
       "<AxesSubplot:>"
      ]
     },
     "execution_count": 13,
     "metadata": {},
     "output_type": "execute_result"
    },
    {
     "data": {
      "image/png": "[encoded data removed]",
      "text/plain": [
       "<Figure size 432x288 with 1 Axes>"
      ]
     },
     "metadata": {
      "needs_background": "light"
     },
     "output_type": "display_data"
    }
   ],
   "source": [
    "#Analysing the home_ownership column\n",
    "df['home_ownership'].value_counts().plot(kind='bar')\n",
    "#We can see that most of the people have their houses on mortgage, and many others on rent. A small percentage of people applying\n",
    "#for loans own their house"
   ]
  },
  {
   "cell_type": "code",
   "execution_count": 14,
   "id": "cc5076dc",
   "metadata": {},
   "outputs": [
    {
     "data": {
      "text/plain": [
       "<AxesSubplot:>"
      ]
     },
     "execution_count": 14,
     "metadata": {},
     "output_type": "execute_result"
    },
    {
     "data": {
      "image/png": "[encoded data removed]",
      "text/plain": [
       "<Figure size 432x288 with 1 Axes>"
      ]
     },
     "metadata": {
      "needs_background": "light"
     },
     "output_type": "display_data"
    }
   ],
   "source": [
    "#Analysing the purpose of loan\n",
    "df['purpose'].value_counts().plot(kind='bar')\n",
    "\n",
    "#We can see that most of the people want a loan to consolidate their debt, which explains a bit of why Americans are caught in\n",
    "#a debt cycle, using a loan to clear another debt. The second most reason is credit card, which accentuates this further"
   ]
  },
  {
   "cell_type": "code",
   "execution_count": 15,
   "id": "f3e3318f",
   "metadata": {},
   "outputs": [
    {
     "data": {
      "text/plain": [
       "<matplotlib.legend.Legend at 0x22ee2fbe3e0>"
      ]
     },
     "execution_count": 15,
     "metadata": {},
     "output_type": "execute_result"
    },
    {
     "data": {
      "image/png": "[encoded data removed]",
      "text/plain": [
       "<Figure size 432x288 with 1 Axes>"
      ]
     },
     "metadata": {},
     "output_type": "display_data"
    }
   ],
   "source": [
    "df['bad_loan'].value_counts().plot(kind='pie')\n",
    "plt.legend([\"0: Non-default\",\"1: Defaulter\"])\n",
    "\n",
    "#Most of the applications, about 80%, have paid loans. The default rate is about 20%\n",
    "#So we know that we have an unbalanced dataset"
   ]
  },
  {
   "cell_type": "code",
   "execution_count": null,
   "id": "66485ba9",
   "metadata": {},
   "outputs": [],
   "source": []
  },
  {
   "cell_type": "code",
   "execution_count": 16,
   "id": "97769d27",
   "metadata": {},
   "outputs": [],
   "source": [
    "#Below we can see the distributions for each variable"
   ]
  },
  {
   "cell_type": "code",
   "execution_count": 17,
   "id": "7ce4fe1e",
   "metadata": {},
   "outputs": [
    {
     "data": {
      "image/png": "[encoded data removed]",
      "text/plain": [
       "<Figure size 720x648 with 12 Axes>"
      ]
     },
     "metadata": {
      "needs_background": "light"
     },
     "output_type": "display_data"
    }
   ],
   "source": [
    "df.hist(figsize=(10,9), bins=12, ec=\"b\", xlabelsize=8, ylabelsize=8, alpha=0.9, grid=False)\n",
    "plt.tight_layout()\n",
    "plt.show()"
   ]
  },
  {
   "cell_type": "code",
   "execution_count": null,
   "id": "5ca36837",
   "metadata": {},
   "outputs": [],
   "source": []
  },
  {
   "cell_type": "code",
   "execution_count": null,
   "id": "8eebfa07",
   "metadata": {},
   "outputs": [],
   "source": []
  },
  {
   "cell_type": "code",
   "execution_count": 18,
   "id": "2efe41e9",
   "metadata": {},
   "outputs": [
    {
     "data": {
      "text/plain": [
       "[]"
      ]
     },
     "execution_count": 18,
     "metadata": {},
     "output_type": "execute_result"
    },
    {
     "data": {
      "image/png": "[encoded data removed]",
      "text/plain": [
       "<Figure size 1368x648 with 2 Axes>"
      ]
     },
     "metadata": {
      "needs_background": "light"
     },
     "output_type": "display_data"
    }
   ],
   "source": [
    "#Variables heatmap\n",
    "plt.figure(figsize=(19, 9))\n",
    "sns.heatmap(df.corr(), annot=True, vmax=1, vmin=-1, square=True, cmap='BrBG')\n",
    "plt.plot()\n",
    "#From the heatmap, we can see that no variables have any significant correlation to the target variable bad_loan\n",
    "#The highest correlated vairables are last_major_derog_none and last_delinq_none.\n",
    "#But due to the high number of null values in the last_major_derog_none column, we will dorp it entirely."
   ]
  },
  {
   "cell_type": "code",
   "execution_count": 19,
   "id": "fa91c90d",
   "metadata": {},
   "outputs": [],
   "source": [
    "#Selecting only the numerical variables for boxplots\n",
    "df_num = df.select_dtypes(exclude=[\"object\",\"category\"]).copy()"
   ]
  },
  {
   "cell_type": "code",
   "execution_count": 20,
   "id": "b1e4a146",
   "metadata": {},
   "outputs": [
    {
     "data": {
      "text/html": [
       "<div>\n",
       "<style scoped>\n",
       "    .dataframe tbody tr th:only-of-type {\n",
       "        vertical-align: middle;\n",
       "    }\n",
       "\n",
       "    .dataframe tbody tr th {\n",
       "        vertical-align: top;\n",
       "    }\n",
       "\n",
       "    .dataframe thead th {\n",
       "        text-align: right;\n",
       "    }\n",
       "</style>\n",
       "<table border=\"1\" class=\"dataframe\">\n",
       "  <thead>\n",
       "    <tr style=\"text-align: right;\">\n",
       "      <th></th>\n",
       "      <th>id</th>\n",
       "      <th>grade</th>\n",
       "      <th>annual_inc</th>\n",
       "      <th>short_emp</th>\n",
       "      <th>emp_length_num</th>\n",
       "      <th>home_ownership</th>\n",
       "      <th>dti</th>\n",
       "      <th>purpose</th>\n",
       "      <th>term</th>\n",
       "      <th>last_delinq_none</th>\n",
       "      <th>last_major_derog_none</th>\n",
       "      <th>revol_util</th>\n",
       "      <th>total_rec_late_fee</th>\n",
       "      <th>od_ratio</th>\n",
       "      <th>bad_loan</th>\n",
       "    </tr>\n",
       "  </thead>\n",
       "  <tbody>\n",
       "    <tr>\n",
       "      <th>0</th>\n",
       "      <td>11454641</td>\n",
       "      <td>A</td>\n",
       "      <td>100000.0</td>\n",
       "      <td>1</td>\n",
       "      <td>1</td>\n",
       "      <td>RENT</td>\n",
       "      <td>26.27</td>\n",
       "      <td>credit_card</td>\n",
       "      <td>36 months</td>\n",
       "      <td>1</td>\n",
       "      <td>NaN</td>\n",
       "      <td>43.2</td>\n",
       "      <td>0.0</td>\n",
       "      <td>0.160624</td>\n",
       "      <td>0</td>\n",
       "    </tr>\n",
       "    <tr>\n",
       "      <th>1</th>\n",
       "      <td>9604874</td>\n",
       "      <td>A</td>\n",
       "      <td>83000.0</td>\n",
       "      <td>0</td>\n",
       "      <td>4</td>\n",
       "      <td>OWN</td>\n",
       "      <td>5.39</td>\n",
       "      <td>credit_card</td>\n",
       "      <td>36 months</td>\n",
       "      <td>0</td>\n",
       "      <td>NaN</td>\n",
       "      <td>21.5</td>\n",
       "      <td>0.0</td>\n",
       "      <td>0.810777</td>\n",
       "      <td>0</td>\n",
       "    </tr>\n",
       "    <tr>\n",
       "      <th>2</th>\n",
       "      <td>9684700</td>\n",
       "      <td>D</td>\n",
       "      <td>78000.0</td>\n",
       "      <td>0</td>\n",
       "      <td>11</td>\n",
       "      <td>MORTGAGE</td>\n",
       "      <td>18.45</td>\n",
       "      <td>debt_consolidation</td>\n",
       "      <td>60 months</td>\n",
       "      <td>1</td>\n",
       "      <td>NaN</td>\n",
       "      <td>46.3</td>\n",
       "      <td>0.0</td>\n",
       "      <td>0.035147</td>\n",
       "      <td>1</td>\n",
       "    </tr>\n",
       "    <tr>\n",
       "      <th>3</th>\n",
       "      <td>9695736</td>\n",
       "      <td>D</td>\n",
       "      <td>37536.0</td>\n",
       "      <td>0</td>\n",
       "      <td>6</td>\n",
       "      <td>MORTGAGE</td>\n",
       "      <td>12.28</td>\n",
       "      <td>medical</td>\n",
       "      <td>60 months</td>\n",
       "      <td>0</td>\n",
       "      <td>NaN</td>\n",
       "      <td>10.7</td>\n",
       "      <td>0.0</td>\n",
       "      <td>0.534887</td>\n",
       "      <td>1</td>\n",
       "    </tr>\n",
       "    <tr>\n",
       "      <th>4</th>\n",
       "      <td>9795013</td>\n",
       "      <td>D</td>\n",
       "      <td>65000.0</td>\n",
       "      <td>0</td>\n",
       "      <td>11</td>\n",
       "      <td>MORTGAGE</td>\n",
       "      <td>11.26</td>\n",
       "      <td>debt_consolidation</td>\n",
       "      <td>36 months</td>\n",
       "      <td>0</td>\n",
       "      <td>NaN</td>\n",
       "      <td>15.2</td>\n",
       "      <td>0.0</td>\n",
       "      <td>0.166500</td>\n",
       "      <td>0</td>\n",
       "    </tr>\n",
       "  </tbody>\n",
       "</table>\n",
       "</div>"
      ],
      "text/plain": [
       "         id grade  annual_inc  short_emp  emp_length_num home_ownership  \\\n",
       "0  11454641     A    100000.0          1               1           RENT   \n",
       "1   9604874     A     83000.0          0               4            OWN   \n",
       "2   9684700     D     78000.0          0              11       MORTGAGE   \n",
       "3   9695736     D     37536.0          0               6       MORTGAGE   \n",
       "4   9795013     D     65000.0          0              11       MORTGAGE   \n",
       "\n",
       "     dti             purpose        term  last_delinq_none  \\\n",
       "0  26.27         credit_card   36 months                 1   \n",
       "1   5.39         credit_card   36 months                 0   \n",
       "2  18.45  debt_consolidation   60 months                 1   \n",
       "3  12.28             medical   60 months                 0   \n",
       "4  11.26  debt_consolidation   36 months                 0   \n",
       "\n",
       "   last_major_derog_none  revol_util  total_rec_late_fee  od_ratio  bad_loan  \n",
       "0                    NaN        43.2                 0.0  0.160624         0  \n",
       "1                    NaN        21.5                 0.0  0.810777         0  \n",
       "2                    NaN        46.3                 0.0  0.035147         1  \n",
       "3                    NaN        10.7                 0.0  0.534887         1  \n",
       "4                    NaN        15.2                 0.0  0.166500         0  "
      ]
     },
     "execution_count": 20,
     "metadata": {},
     "output_type": "execute_result"
    }
   ],
   "source": [
    "df.head()"
   ]
  },
  {
   "cell_type": "code",
   "execution_count": 21,
   "id": "115f8305",
   "metadata": {},
   "outputs": [
    {
     "data": {
      "text/html": [
       "<div>\n",
       "<style scoped>\n",
       "    .dataframe tbody tr th:only-of-type {\n",
       "        vertical-align: middle;\n",
       "    }\n",
       "\n",
       "    .dataframe tbody tr th {\n",
       "        vertical-align: top;\n",
       "    }\n",
       "\n",
       "    .dataframe thead th {\n",
       "        text-align: right;\n",
       "    }\n",
       "</style>\n",
       "<table border=\"1\" class=\"dataframe\">\n",
       "  <thead>\n",
       "    <tr style=\"text-align: right;\">\n",
       "      <th></th>\n",
       "      <th>annual_inc</th>\n",
       "      <th>short_emp</th>\n",
       "      <th>emp_length_num</th>\n",
       "      <th>dti</th>\n",
       "      <th>last_delinq_none</th>\n",
       "      <th>last_major_derog_none</th>\n",
       "      <th>revol_util</th>\n",
       "      <th>total_rec_late_fee</th>\n",
       "      <th>od_ratio</th>\n",
       "      <th>bad_loan</th>\n",
       "    </tr>\n",
       "  </thead>\n",
       "  <tbody>\n",
       "    <tr>\n",
       "      <th>0</th>\n",
       "      <td>100000.0</td>\n",
       "      <td>1</td>\n",
       "      <td>1</td>\n",
       "      <td>26.27</td>\n",
       "      <td>1</td>\n",
       "      <td>NaN</td>\n",
       "      <td>43.2</td>\n",
       "      <td>0.0</td>\n",
       "      <td>0.160624</td>\n",
       "      <td>0</td>\n",
       "    </tr>\n",
       "    <tr>\n",
       "      <th>1</th>\n",
       "      <td>83000.0</td>\n",
       "      <td>0</td>\n",
       "      <td>4</td>\n",
       "      <td>5.39</td>\n",
       "      <td>0</td>\n",
       "      <td>NaN</td>\n",
       "      <td>21.5</td>\n",
       "      <td>0.0</td>\n",
       "      <td>0.810777</td>\n",
       "      <td>0</td>\n",
       "    </tr>\n",
       "    <tr>\n",
       "      <th>2</th>\n",
       "      <td>78000.0</td>\n",
       "      <td>0</td>\n",
       "      <td>11</td>\n",
       "      <td>18.45</td>\n",
       "      <td>1</td>\n",
       "      <td>NaN</td>\n",
       "      <td>46.3</td>\n",
       "      <td>0.0</td>\n",
       "      <td>0.035147</td>\n",
       "      <td>1</td>\n",
       "    </tr>\n",
       "    <tr>\n",
       "      <th>3</th>\n",
       "      <td>37536.0</td>\n",
       "      <td>0</td>\n",
       "      <td>6</td>\n",
       "      <td>12.28</td>\n",
       "      <td>0</td>\n",
       "      <td>NaN</td>\n",
       "      <td>10.7</td>\n",
       "      <td>0.0</td>\n",
       "      <td>0.534887</td>\n",
       "      <td>1</td>\n",
       "    </tr>\n",
       "    <tr>\n",
       "      <th>4</th>\n",
       "      <td>65000.0</td>\n",
       "      <td>0</td>\n",
       "      <td>11</td>\n",
       "      <td>11.26</td>\n",
       "      <td>0</td>\n",
       "      <td>NaN</td>\n",
       "      <td>15.2</td>\n",
       "      <td>0.0</td>\n",
       "      <td>0.166500</td>\n",
       "      <td>0</td>\n",
       "    </tr>\n",
       "    <tr>\n",
       "      <th>...</th>\n",
       "      <td>...</td>\n",
       "      <td>...</td>\n",
       "      <td>...</td>\n",
       "      <td>...</td>\n",
       "      <td>...</td>\n",
       "      <td>...</td>\n",
       "      <td>...</td>\n",
       "      <td>...</td>\n",
       "      <td>...</td>\n",
       "      <td>...</td>\n",
       "    </tr>\n",
       "    <tr>\n",
       "      <th>19995</th>\n",
       "      <td>27000.0</td>\n",
       "      <td>0</td>\n",
       "      <td>9</td>\n",
       "      <td>18.36</td>\n",
       "      <td>1</td>\n",
       "      <td>NaN</td>\n",
       "      <td>46.5</td>\n",
       "      <td>0.0</td>\n",
       "      <td>0.821782</td>\n",
       "      <td>1</td>\n",
       "    </tr>\n",
       "    <tr>\n",
       "      <th>19996</th>\n",
       "      <td>45000.0</td>\n",
       "      <td>0</td>\n",
       "      <td>2</td>\n",
       "      <td>23.22</td>\n",
       "      <td>0</td>\n",
       "      <td>NaN</td>\n",
       "      <td>46.2</td>\n",
       "      <td>0.0</td>\n",
       "      <td>0.652200</td>\n",
       "      <td>0</td>\n",
       "    </tr>\n",
       "    <tr>\n",
       "      <th>19997</th>\n",
       "      <td>104000.0</td>\n",
       "      <td>0</td>\n",
       "      <td>5</td>\n",
       "      <td>13.27</td>\n",
       "      <td>1</td>\n",
       "      <td>NaN</td>\n",
       "      <td>78.5</td>\n",
       "      <td>0.0</td>\n",
       "      <td>0.482555</td>\n",
       "      <td>0</td>\n",
       "    </tr>\n",
       "    <tr>\n",
       "      <th>19998</th>\n",
       "      <td>38400.0</td>\n",
       "      <td>0</td>\n",
       "      <td>2</td>\n",
       "      <td>12.84</td>\n",
       "      <td>0</td>\n",
       "      <td>NaN</td>\n",
       "      <td>47.4</td>\n",
       "      <td>0.0</td>\n",
       "      <td>0.822980</td>\n",
       "      <td>0</td>\n",
       "    </tr>\n",
       "    <tr>\n",
       "      <th>19999</th>\n",
       "      <td>150000.0</td>\n",
       "      <td>0</td>\n",
       "      <td>11</td>\n",
       "      <td>2.20</td>\n",
       "      <td>0</td>\n",
       "      <td>NaN</td>\n",
       "      <td>40.7</td>\n",
       "      <td>0.0</td>\n",
       "      <td>0.201388</td>\n",
       "      <td>0</td>\n",
       "    </tr>\n",
       "  </tbody>\n",
       "</table>\n",
       "<p>20000 rows × 10 columns</p>\n",
       "</div>"
      ],
      "text/plain": [
       "       annual_inc  short_emp  emp_length_num    dti  last_delinq_none  \\\n",
       "0        100000.0          1               1  26.27                 1   \n",
       "1         83000.0          0               4   5.39                 0   \n",
       "2         78000.0          0              11  18.45                 1   \n",
       "3         37536.0          0               6  12.28                 0   \n",
       "4         65000.0          0              11  11.26                 0   \n",
       "...           ...        ...             ...    ...               ...   \n",
       "19995     27000.0          0               9  18.36                 1   \n",
       "19996     45000.0          0               2  23.22                 0   \n",
       "19997    104000.0          0               5  13.27                 1   \n",
       "19998     38400.0          0               2  12.84                 0   \n",
       "19999    150000.0          0              11   2.20                 0   \n",
       "\n",
       "       last_major_derog_none  revol_util  total_rec_late_fee  od_ratio  \\\n",
       "0                        NaN        43.2                 0.0  0.160624   \n",
       "1                        NaN        21.5                 0.0  0.810777   \n",
       "2                        NaN        46.3                 0.0  0.035147   \n",
       "3                        NaN        10.7                 0.0  0.534887   \n",
       "4                        NaN        15.2                 0.0  0.166500   \n",
       "...                      ...         ...                 ...       ...   \n",
       "19995                    NaN        46.5                 0.0  0.821782   \n",
       "19996                    NaN        46.2                 0.0  0.652200   \n",
       "19997                    NaN        78.5                 0.0  0.482555   \n",
       "19998                    NaN        47.4                 0.0  0.822980   \n",
       "19999                    NaN        40.7                 0.0  0.201388   \n",
       "\n",
       "       bad_loan  \n",
       "0             0  \n",
       "1             0  \n",
       "2             1  \n",
       "3             1  \n",
       "4             0  \n",
       "...         ...  \n",
       "19995         1  \n",
       "19996         0  \n",
       "19997         0  \n",
       "19998         0  \n",
       "19999         0  \n",
       "\n",
       "[20000 rows x 10 columns]"
      ]
     },
     "execution_count": 21,
     "metadata": {},
     "output_type": "execute_result"
    }
   ],
   "source": [
    "df_numeric = df.drop(['purpose','home_ownership','term','grade'],axis=1)\n",
    "df_numeric.drop(['id'],axis=1)"
   ]
  },
  {
   "cell_type": "code",
   "execution_count": 22,
   "id": "66e0f989",
   "metadata": {},
   "outputs": [
    {
     "data": {
      "image/png": "[encoded data removed]",
      "text/plain": [
       "<Figure size 720x108 with 1 Axes>"
      ]
     },
     "metadata": {
      "needs_background": "light"
     },
     "output_type": "display_data"
    }
   ],
   "source": [
    "fig, ax = plt.subplots(figsize=(10,1.5))\n",
    "sns.boxplot(x=df['annual_inc'],orient='h')\n",
    "plt.tight_layout(pad=0.4, w_pad=0.5, h_pad=5.0)"
   ]
  },
  {
   "cell_type": "code",
   "execution_count": null,
   "id": "7f1625a0",
   "metadata": {},
   "outputs": [],
   "source": []
  },
  {
   "cell_type": "code",
   "execution_count": 8,
   "id": "38655415",
   "metadata": {},
   "outputs": [],
   "source": [
    "Q1 = df['annual_inc'].quantile(0.25)\n",
    "Q3 = df['annual_inc'].quantile(0.75)\n",
    "IQR = Q3 - Q1\n",
    "\n",
    "df['annual_inc'] = df.annual_inc[~((df.annual_inc < (Q1 - 1.5 * IQR)) |(df.annual_inc > (Q3 + 1.5 * IQR)))]"
   ]
  },
  {
   "cell_type": "code",
   "execution_count": 23,
   "id": "c25feed8",
   "metadata": {},
   "outputs": [
    {
     "data": {
      "text/plain": [
       "count      20000.000000\n",
       "mean       73349.578350\n",
       "std        45198.567255\n",
       "min         8412.000000\n",
       "25%        47000.000000\n",
       "50%        65000.000000\n",
       "75%        88000.000000\n",
       "max      1000000.000000\n",
       "Name: annual_inc, dtype: float64"
      ]
     },
     "execution_count": 23,
     "metadata": {},
     "output_type": "execute_result"
    }
   ],
   "source": [
    "df['annual_inc'].describe()\n",
    "#So the count ahs reduced from 20000 to 19074, meaning that 926 outliers were detected and removed"
   ]
  },
  {
   "cell_type": "code",
   "execution_count": 24,
   "id": "ab4ba612",
   "metadata": {
    "scrolled": true
   },
   "outputs": [
    {
     "data": {
      "text/plain": [
       "<AxesSubplot:xlabel='annual_inc'>"
      ]
     },
     "execution_count": 24,
     "metadata": {},
     "output_type": "execute_result"
    },
    {
     "data": {
      "image/png": "[encoded data removed]",
      "text/plain": [
       "<Figure size 720x108 with 1 Axes>"
      ]
     },
     "metadata": {
      "needs_background": "light"
     },
     "output_type": "display_data"
    }
   ],
   "source": [
    "#Here is the boxplot for the new annual_inc column after outlier removal\n",
    "fig, ax = plt.subplots(figsize=(10,1.5))\n",
    "sns.boxplot(x=df['annual_inc'],orient='h')\n"
   ]
  },
  {
   "cell_type": "code",
   "execution_count": 25,
   "id": "41b14f29",
   "metadata": {},
   "outputs": [
    {
     "data": {
      "text/plain": [
       "<AxesSubplot:xlabel='revol_util'>"
      ]
     },
     "execution_count": 25,
     "metadata": {},
     "output_type": "execute_result"
    },
    {
     "data": {
      "image/png": "[encoded data removed]",
      "text/plain": [
       "<Figure size 720x108 with 1 Axes>"
      ]
     },
     "metadata": {
      "needs_background": "light"
     },
     "output_type": "display_data"
    }
   ],
   "source": [
    "fig, ax = plt.subplots(figsize=(10,1.5))\n",
    "sns.boxplot(x=df['revol_util'],orient='h')\n",
    "#We see a singular outlier"
   ]
  },
  {
   "cell_type": "code",
   "execution_count": 26,
   "id": "3a27f3c9",
   "metadata": {},
   "outputs": [],
   "source": [
    "#Removing the singular outlier\n",
    "value = df.revol_util.quantile([.99999])\n",
    "p = value.iloc[0]\n",
    "df = df[df[\"revol_util\"] < p]"
   ]
  },
  {
   "cell_type": "code",
   "execution_count": 27,
   "id": "a84ff773",
   "metadata": {
    "scrolled": true
   },
   "outputs": [
    {
     "data": {
      "text/plain": [
       "count    19999.000000\n",
       "mean        55.710434\n",
       "std         23.380722\n",
       "min          0.000000\n",
       "25%         38.800000\n",
       "50%         57.100000\n",
       "75%         73.900000\n",
       "max        128.100000\n",
       "Name: revol_util, dtype: float64"
      ]
     },
     "execution_count": 27,
     "metadata": {},
     "output_type": "execute_result"
    }
   ],
   "source": [
    "df['revol_util'].describe()\n",
    "#One outlier has been removed"
   ]
  },
  {
   "cell_type": "code",
   "execution_count": 28,
   "id": "9fc134b9",
   "metadata": {
    "scrolled": true
   },
   "outputs": [
    {
     "data": {
      "text/plain": [
       "<AxesSubplot:xlabel='total_rec_late_fee'>"
      ]
     },
     "execution_count": 28,
     "metadata": {},
     "output_type": "execute_result"
    },
    {
     "data": {
      "image/png": "[encoded data removed]",
      "text/plain": [
       "<Figure size 720x108 with 1 Axes>"
      ]
     },
     "metadata": {
      "needs_background": "light"
     },
     "output_type": "display_data"
    }
   ],
   "source": [
    "fig, ax = plt.subplots(figsize=(10,1.5))\n",
    "sns.boxplot(x=df['total_rec_late_fee'],orient='h')\n",
    "#We detect a lot of outliers"
   ]
  },
  {
   "cell_type": "code",
   "execution_count": 29,
   "id": "f20d4b9d",
   "metadata": {},
   "outputs": [],
   "source": [
    "value = df.total_rec_late_fee.quantile([.989])\n",
    "p = value.iloc[0]\n",
    "df = df[df[\"total_rec_late_fee\"] < p]"
   ]
  },
  {
   "cell_type": "code",
   "execution_count": 30,
   "id": "9001d949",
   "metadata": {},
   "outputs": [
    {
     "data": {
      "text/plain": [
       "count    19779.000000\n",
       "mean         0.005581\n",
       "std          0.282328\n",
       "min          0.000000\n",
       "25%          0.000000\n",
       "50%          0.000000\n",
       "75%          0.000000\n",
       "max         14.968500\n",
       "Name: total_rec_late_fee, dtype: float64"
      ]
     },
     "execution_count": 30,
     "metadata": {},
     "output_type": "execute_result"
    }
   ],
   "source": [
    "#After removing the outliers\n",
    "df['total_rec_late_fee'].describe()\n",
    "\n",
    "#221 outliers have been removed"
   ]
  },
  {
   "cell_type": "code",
   "execution_count": 31,
   "id": "fe38d763",
   "metadata": {},
   "outputs": [
    {
     "data": {
      "text/plain": [
       "<AxesSubplot:xlabel='total_rec_late_fee'>"
      ]
     },
     "execution_count": 31,
     "metadata": {},
     "output_type": "execute_result"
    },
    {
     "data": {
      "image/png": "[encoded data removed]",
      "text/plain": [
       "<Figure size 720x108 with 1 Axes>"
      ]
     },
     "metadata": {
      "needs_background": "light"
     },
     "output_type": "display_data"
    }
   ],
   "source": [
    "fig, ax = plt.subplots(figsize=(10,1.5))\n",
    "sns.boxplot(x=df['total_rec_late_fee'],orient='h')"
   ]
  },
  {
   "cell_type": "code",
   "execution_count": 32,
   "id": "3acf429b",
   "metadata": {},
   "outputs": [
    {
     "name": "stdout",
     "output_type": "stream",
     "text": [
      "'home_ownership': number of missing values '1476' ---> '7.462%'\n",
      "'dti': number of missing values '152' ---> '0.768%'\n",
      "'last_major_derog_none': number of missing values '19208' ---> '97.113%'\n"
     ]
    }
   ],
   "source": [
    "# To detect Missing values:\n",
    "\n",
    "for column in df.columns:\n",
    "    if df[column].isna().sum() != 0:\n",
    "        missing = df[column].isna().sum()\n",
    "        portion = (missing / df.shape[0]) * 100\n",
    "        print(f\"'{column}': number of missing values '{missing}' ---> '{portion:.3f}%'\")\n",
    "        "
   ]
  },
  {
   "cell_type": "code",
   "execution_count": 33,
   "id": "322c8c74",
   "metadata": {
    "scrolled": true
   },
   "outputs": [
    {
     "data": {
      "text/plain": [
       "60000.0     771\n",
       "50000.0     729\n",
       "65000.0     607\n",
       "70000.0     599\n",
       "80000.0     545\n",
       "           ... \n",
       "98559.0       1\n",
       "39608.0       1\n",
       "49955.0       1\n",
       "112711.0      1\n",
       "36676.0       1\n",
       "Name: annual_inc, Length: 2537, dtype: int64"
      ]
     },
     "execution_count": 33,
     "metadata": {},
     "output_type": "execute_result"
    }
   ],
   "source": [
    "#1 'annual_inc'\n",
    "df.annual_inc.value_counts(dropna=False)\n"
   ]
  },
  {
   "cell_type": "code",
   "execution_count": 36,
   "id": "51d4be95",
   "metadata": {},
   "outputs": [
    {
     "name": "stdout",
     "output_type": "stream",
     "text": [
      "Fillna done. Anomalies detected: False\n"
     ]
    }
   ],
   "source": [
    "#Replacing missing values with mean\n",
    "\n",
    "df[\"annual_inc\"] = df.annual_inc.fillna(df.annual_inc.mean())\n",
    "print(f\"Fillna done. Anomalies detected: {df.annual_inc.isnull().values.any()}\")"
   ]
  },
  {
   "cell_type": "code",
   "execution_count": 37,
   "id": "8f1c1959",
   "metadata": {},
   "outputs": [
    {
     "data": {
      "text/plain": [
       "MORTGAGE    9744\n",
       "RENT        6959\n",
       "OWN         1600\n",
       "NaN         1476\n",
       "Name: home_ownership, dtype: int64"
      ]
     },
     "execution_count": 37,
     "metadata": {},
     "output_type": "execute_result"
    }
   ],
   "source": [
    "#2 'home_ownership'\n",
    "df.home_ownership.value_counts(dropna=False)\n",
    "\n"
   ]
  },
  {
   "cell_type": "code",
   "execution_count": 38,
   "id": "73916819",
   "metadata": {},
   "outputs": [
    {
     "name": "stdout",
     "output_type": "stream",
     "text": [
      "Imputation done. Missing values: 0\n"
     ]
    }
   ],
   "source": [
    "# Mode imputation (replacing NaN by most frequent value: Mortage)\n",
    "df[\"home_ownership\"] = df.home_ownership.fillna(df.home_ownership.value_counts().index[0])\n",
    "print(f\"Imputation done. Missing values: {df.home_ownership.isnull().sum()}\")"
   ]
  },
  {
   "cell_type": "code",
   "execution_count": 39,
   "id": "19b37a4f",
   "metadata": {},
   "outputs": [
    {
     "data": {
      "text/plain": [
       "NaN      152\n",
       "15.87     20\n",
       "19.64     20\n",
       "19.25     19\n",
       "11.45     19\n",
       "        ... \n",
       "34.32      1\n",
       "0.11       1\n",
       "1.61       1\n",
       "1.47       1\n",
       "32.53      1\n",
       "Name: dti, Length: 3286, dtype: int64"
      ]
     },
     "execution_count": 39,
     "metadata": {},
     "output_type": "execute_result"
    }
   ],
   "source": [
    "#3 'dti'\n",
    "df['dti'].value_counts(dropna=False)"
   ]
  },
  {
   "cell_type": "code",
   "execution_count": 40,
   "id": "3e7e9699",
   "metadata": {},
   "outputs": [
    {
     "name": "stdout",
     "output_type": "stream",
     "text": [
      "Fillna done. Missing values: False\n"
     ]
    }
   ],
   "source": [
    "# Replacing missing values with the mean (average)\n",
    "df[\"dti\"] = df.dti.fillna(df.dti.mean())\n",
    "print(f\"Fillna done. Missing values: {df.dti.isnull().values.any()}\")"
   ]
  },
  {
   "cell_type": "code",
   "execution_count": 41,
   "id": "14a76fc5",
   "metadata": {},
   "outputs": [
    {
     "data": {
      "text/html": [
       "<div>\n",
       "<style scoped>\n",
       "    .dataframe tbody tr th:only-of-type {\n",
       "        vertical-align: middle;\n",
       "    }\n",
       "\n",
       "    .dataframe tbody tr th {\n",
       "        vertical-align: top;\n",
       "    }\n",
       "\n",
       "    .dataframe thead th {\n",
       "        text-align: right;\n",
       "    }\n",
       "</style>\n",
       "<table border=\"1\" class=\"dataframe\">\n",
       "  <thead>\n",
       "    <tr style=\"text-align: right;\">\n",
       "      <th></th>\n",
       "      <th>last_major_derog_none</th>\n",
       "      <th>Percent %</th>\n",
       "    </tr>\n",
       "  </thead>\n",
       "  <tbody>\n",
       "    <tr>\n",
       "      <th>NaN</th>\n",
       "      <td>19208</td>\n",
       "      <td>97.113100</td>\n",
       "    </tr>\n",
       "    <tr>\n",
       "      <th>1.0</th>\n",
       "      <td>435</td>\n",
       "      <td>2.199302</td>\n",
       "    </tr>\n",
       "    <tr>\n",
       "      <th>0.0</th>\n",
       "      <td>136</td>\n",
       "      <td>0.687598</td>\n",
       "    </tr>\n",
       "  </tbody>\n",
       "</table>\n",
       "</div>"
      ],
      "text/plain": [
       "     last_major_derog_none  Percent %\n",
       "NaN                  19208  97.113100\n",
       "1.0                    435   2.199302\n",
       "0.0                    136   0.687598"
      ]
     },
     "execution_count": 41,
     "metadata": {},
     "output_type": "execute_result"
    }
   ],
   "source": [
    "#4 'last_major_derog_none'\n",
    "\n",
    "abs_mv = df.last_major_derog_none.value_counts(dropna=False)\n",
    "pc_mv = df.last_major_derog_none.value_counts(dropna=False, normalize=True) * 100\n",
    "pc_mv_df = pd.DataFrame(pc_mv)\n",
    "pc_mv_df.rename(columns={\"last_major_derog_none\":\"Percent %\"}, inplace=True)\n",
    "abs_pc = pd.concat([abs_mv,pc_mv_df], axis=1)\n",
    "abs_pc"
   ]
  },
  {
   "cell_type": "code",
   "execution_count": 42,
   "id": "0e817260",
   "metadata": {},
   "outputs": [
    {
     "name": "stdout",
     "output_type": "stream",
     "text": [
      "All missing values are solved in the entire dataset: True\n"
     ]
    }
   ],
   "source": [
    "# Drop ‘last_major_derog_none’ numerical variable as too many anomalies(97.11% Nan values)\n",
    "\n",
    "df.drop(\"last_major_derog_none\", axis=1, inplace=True)\n",
    "print(f\"All missing values are solved in the entire dataset: {df.notnull().values.any()}\")"
   ]
  },
  {
   "cell_type": "code",
   "execution_count": 43,
   "id": "1c84b136",
   "metadata": {},
   "outputs": [
    {
     "data": {
      "text/plain": [
       "id                    0\n",
       "grade                 0\n",
       "annual_inc            0\n",
       "short_emp             0\n",
       "emp_length_num        0\n",
       "home_ownership        0\n",
       "dti                   0\n",
       "purpose               0\n",
       "term                  0\n",
       "last_delinq_none      0\n",
       "revol_util            0\n",
       "total_rec_late_fee    0\n",
       "od_ratio              0\n",
       "bad_loan              0\n",
       "dtype: int64"
      ]
     },
     "execution_count": 43,
     "metadata": {},
     "output_type": "execute_result"
    }
   ],
   "source": [
    "df.isnull().sum()\n",
    "#We can see that there there are no more null values in the dataframe"
   ]
  },
  {
   "cell_type": "code",
   "execution_count": 44,
   "id": "36033253",
   "metadata": {},
   "outputs": [
    {
     "name": "stdout",
     "output_type": "stream",
     "text": [
      "<class 'pandas.core.frame.DataFrame'>\n",
      "Int64Index: 19779 entries, 0 to 19999\n",
      "Data columns (total 14 columns):\n",
      " #   Column              Non-Null Count  Dtype  \n",
      "---  ------              --------------  -----  \n",
      " 0   id                  19779 non-null  int64  \n",
      " 1   grade               19779 non-null  object \n",
      " 2   annual_inc          19779 non-null  float64\n",
      " 3   short_emp           19779 non-null  int64  \n",
      " 4   emp_length_num      19779 non-null  int64  \n",
      " 5   home_ownership      19779 non-null  object \n",
      " 6   dti                 19779 non-null  float64\n",
      " 7   purpose             19779 non-null  object \n",
      " 8   term                19779 non-null  object \n",
      " 9   last_delinq_none    19779 non-null  int64  \n",
      " 10  revol_util          19779 non-null  float64\n",
      " 11  total_rec_late_fee  19779 non-null  float64\n",
      " 12  od_ratio            19779 non-null  float64\n",
      " 13  bad_loan            19779 non-null  int64  \n",
      "dtypes: float64(5), int64(5), object(4)\n",
      "memory usage: 2.3+ MB\n"
     ]
    }
   ],
   "source": [
    "#Feature selection\n",
    "\n",
    "df.info()\n"
   ]
  },
  {
   "cell_type": "code",
   "execution_count": 45,
   "id": "0c6f5fa0",
   "metadata": {},
   "outputs": [],
   "source": [
    "#Drop ‘id’ numerical variable as it an irrelevant feature\n",
    "df.drop(\"id\", axis=1, inplace=True)\n"
   ]
  },
  {
   "cell_type": "code",
   "execution_count": 46,
   "id": "404c6b61",
   "metadata": {},
   "outputs": [],
   "source": [
    "#Numerical Feature selection\n",
    "# Selecting numeric variables only:\n",
    "\n",
    "df_numerical = df.select_dtypes(exclude=[\"object\",\"category\"]).copy()\n",
    "\n"
   ]
  },
  {
   "cell_type": "code",
   "execution_count": 47,
   "id": "fb3ea5e7",
   "metadata": {},
   "outputs": [],
   "source": [
    "#Creating Subsets\n",
    "\n",
    "Xnum = df_numerical.drop([\"bad_loan\"], axis= \"columns\")\n",
    "ynum = df_numerical.bad_loan\n",
    "\n"
   ]
  },
  {
   "cell_type": "code",
   "execution_count": 48,
   "id": "d1d9358e",
   "metadata": {},
   "outputs": [
    {
     "data": {
      "text/html": [
       "<div>\n",
       "<style scoped>\n",
       "    .dataframe tbody tr th:only-of-type {\n",
       "        vertical-align: middle;\n",
       "    }\n",
       "\n",
       "    .dataframe tbody tr th {\n",
       "        vertical-align: top;\n",
       "    }\n",
       "\n",
       "    .dataframe thead th {\n",
       "        text-align: right;\n",
       "    }\n",
       "</style>\n",
       "<table border=\"1\" class=\"dataframe\">\n",
       "  <thead>\n",
       "    <tr style=\"text-align: right;\">\n",
       "      <th></th>\n",
       "      <th>Pearson Corr.</th>\n",
       "      <th>p-value</th>\n",
       "    </tr>\n",
       "  </thead>\n",
       "  <tbody>\n",
       "    <tr>\n",
       "      <th>annual_inc</th>\n",
       "      <td>-0.0926</td>\n",
       "      <td>0.0000</td>\n",
       "    </tr>\n",
       "    <tr>\n",
       "      <th>short_emp</th>\n",
       "      <td>0.0368</td>\n",
       "      <td>0.0000</td>\n",
       "    </tr>\n",
       "    <tr>\n",
       "      <th>emp_length_num</th>\n",
       "      <td>-0.0406</td>\n",
       "      <td>0.0000</td>\n",
       "    </tr>\n",
       "    <tr>\n",
       "      <th>dti</th>\n",
       "      <td>0.1394</td>\n",
       "      <td>0.0000</td>\n",
       "    </tr>\n",
       "    <tr>\n",
       "      <th>last_delinq_none</th>\n",
       "      <td>0.0216</td>\n",
       "      <td>0.0024</td>\n",
       "    </tr>\n",
       "    <tr>\n",
       "      <th>revol_util</th>\n",
       "      <td>0.1013</td>\n",
       "      <td>0.0000</td>\n",
       "    </tr>\n",
       "    <tr>\n",
       "      <th>total_rec_late_fee</th>\n",
       "      <td>0.0240</td>\n",
       "      <td>0.0007</td>\n",
       "    </tr>\n",
       "    <tr>\n",
       "      <th>od_ratio</th>\n",
       "      <td>0.0007</td>\n",
       "      <td>0.9214</td>\n",
       "    </tr>\n",
       "  </tbody>\n",
       "</table>\n",
       "</div>"
      ],
      "text/plain": [
       "                    Pearson Corr.  p-value\n",
       "annual_inc                -0.0926   0.0000\n",
       "short_emp                  0.0368   0.0000\n",
       "emp_length_num            -0.0406   0.0000\n",
       "dti                        0.1394   0.0000\n",
       "last_delinq_none           0.0216   0.0024\n",
       "revol_util                 0.1013   0.0000\n",
       "total_rec_late_fee         0.0240   0.0007\n",
       "od_ratio                   0.0007   0.9214"
      ]
     },
     "execution_count": 48,
     "metadata": {},
     "output_type": "execute_result"
    }
   ],
   "source": [
    "# Identifying the predictive features using the Pearson Correlation p-value\n",
    "pd.DataFrame(\n",
    "    [scipy.stats.pearsonr(Xnum[col], \n",
    "    ynum) for col in Xnum.columns], \n",
    "    columns=[\"Pearson Corr.\", \"p-value\"], \n",
    "    index=Xnum.columns,).round(4)"
   ]
  },
  {
   "cell_type": "code",
   "execution_count": 49,
   "id": "ece3bbf4",
   "metadata": {},
   "outputs": [],
   "source": [
    "# Drop ‘od_ratio’ (p-value > 0.05) which implies it is not significant. \n",
    "# We will keep the remaining variables as they are below 0.05 and hence significant\n",
    "df.drop(\"od_ratio\", axis=1, inplace=True)\n"
   ]
  },
  {
   "cell_type": "code",
   "execution_count": 50,
   "id": "8494c5e4",
   "metadata": {},
   "outputs": [],
   "source": [
    "# Categorical Features and Categorical/Binary Target\n",
    "#Selecting categoric variables only:\n",
    "cat = df.select_dtypes(exclude=['int64','float64']).copy()"
   ]
  },
  {
   "cell_type": "code",
   "execution_count": 51,
   "id": "ddcbd964",
   "metadata": {},
   "outputs": [],
   "source": [
    "# Creating subsets:\n",
    "\n",
    "cat['target'] = df.bad_loan\n",
    "cat.dropna(how=\"any\", inplace=True)\n",
    "ycat = cat.target\n",
    "cat.drop(\"target\", axis=1, inplace=True)\n"
   ]
  },
  {
   "cell_type": "code",
   "execution_count": 52,
   "id": "5773d573",
   "metadata": {},
   "outputs": [
    {
     "name": "stdout",
     "output_type": "stream",
     "text": [
      "\n"
     ]
    },
    {
     "data": {
      "text/html": [
       "<div>\n",
       "<style scoped>\n",
       "    .dataframe tbody tr th:only-of-type {\n",
       "        vertical-align: middle;\n",
       "    }\n",
       "\n",
       "    .dataframe tbody tr th {\n",
       "        vertical-align: top;\n",
       "    }\n",
       "\n",
       "    .dataframe thead th {\n",
       "        text-align: right;\n",
       "    }\n",
       "</style>\n",
       "<table border=\"1\" class=\"dataframe\">\n",
       "  <thead>\n",
       "    <tr style=\"text-align: right;\">\n",
       "      <th>target</th>\n",
       "      <th>0</th>\n",
       "      <th>1</th>\n",
       "    </tr>\n",
       "    <tr>\n",
       "      <th>grade</th>\n",
       "      <th></th>\n",
       "      <th></th>\n",
       "    </tr>\n",
       "  </thead>\n",
       "  <tbody>\n",
       "    <tr>\n",
       "      <th>A</th>\n",
       "      <td>2030</td>\n",
       "      <td>120</td>\n",
       "    </tr>\n",
       "    <tr>\n",
       "      <th>B</th>\n",
       "      <td>5257</td>\n",
       "      <td>736</td>\n",
       "    </tr>\n",
       "    <tr>\n",
       "      <th>C</th>\n",
       "      <td>4375</td>\n",
       "      <td>1127</td>\n",
       "    </tr>\n",
       "    <tr>\n",
       "      <th>D</th>\n",
       "      <td>2566</td>\n",
       "      <td>947</td>\n",
       "    </tr>\n",
       "    <tr>\n",
       "      <th>E</th>\n",
       "      <td>1099</td>\n",
       "      <td>516</td>\n",
       "    </tr>\n",
       "    <tr>\n",
       "      <th>F</th>\n",
       "      <td>509</td>\n",
       "      <td>333</td>\n",
       "    </tr>\n",
       "    <tr>\n",
       "      <th>G</th>\n",
       "      <td>102</td>\n",
       "      <td>62</td>\n",
       "    </tr>\n",
       "  </tbody>\n",
       "</table>\n",
       "</div>"
      ],
      "text/plain": [
       "target     0     1\n",
       "grade             \n",
       "A       2030   120\n",
       "B       5257   736\n",
       "C       4375  1127\n",
       "D       2566   947\n",
       "E       1099   516\n",
       "F        509   333\n",
       "G        102    62"
      ]
     },
     "metadata": {},
     "output_type": "display_data"
    },
    {
     "name": "stdout",
     "output_type": "stream",
     "text": [
      "p-value: 0.0000000000000000000000000\n",
      "\n"
     ]
    },
    {
     "data": {
      "text/html": [
       "<div>\n",
       "<style scoped>\n",
       "    .dataframe tbody tr th:only-of-type {\n",
       "        vertical-align: middle;\n",
       "    }\n",
       "\n",
       "    .dataframe tbody tr th {\n",
       "        vertical-align: top;\n",
       "    }\n",
       "\n",
       "    .dataframe thead th {\n",
       "        text-align: right;\n",
       "    }\n",
       "</style>\n",
       "<table border=\"1\" class=\"dataframe\">\n",
       "  <thead>\n",
       "    <tr style=\"text-align: right;\">\n",
       "      <th>target</th>\n",
       "      <th>0</th>\n",
       "      <th>1</th>\n",
       "    </tr>\n",
       "    <tr>\n",
       "      <th>home_ownership</th>\n",
       "      <th></th>\n",
       "      <th></th>\n",
       "    </tr>\n",
       "  </thead>\n",
       "  <tbody>\n",
       "    <tr>\n",
       "      <th>MORTGAGE</th>\n",
       "      <td>9298</td>\n",
       "      <td>1922</td>\n",
       "    </tr>\n",
       "    <tr>\n",
       "      <th>OWN</th>\n",
       "      <td>1293</td>\n",
       "      <td>307</td>\n",
       "    </tr>\n",
       "    <tr>\n",
       "      <th>RENT</th>\n",
       "      <td>5347</td>\n",
       "      <td>1612</td>\n",
       "    </tr>\n",
       "  </tbody>\n",
       "</table>\n",
       "</div>"
      ],
      "text/plain": [
       "target             0     1\n",
       "home_ownership            \n",
       "MORTGAGE        9298  1922\n",
       "OWN             1293   307\n",
       "RENT            5347  1612"
      ]
     },
     "metadata": {},
     "output_type": "display_data"
    },
    {
     "name": "stdout",
     "output_type": "stream",
     "text": [
      "p-value: 0.0000000000000000000001931\n",
      "\n"
     ]
    },
    {
     "data": {
      "text/html": [
       "<div>\n",
       "<style scoped>\n",
       "    .dataframe tbody tr th:only-of-type {\n",
       "        vertical-align: middle;\n",
       "    }\n",
       "\n",
       "    .dataframe tbody tr th {\n",
       "        vertical-align: top;\n",
       "    }\n",
       "\n",
       "    .dataframe thead th {\n",
       "        text-align: right;\n",
       "    }\n",
       "</style>\n",
       "<table border=\"1\" class=\"dataframe\">\n",
       "  <thead>\n",
       "    <tr style=\"text-align: right;\">\n",
       "      <th>target</th>\n",
       "      <th>0</th>\n",
       "      <th>1</th>\n",
       "    </tr>\n",
       "    <tr>\n",
       "      <th>purpose</th>\n",
       "      <th></th>\n",
       "      <th></th>\n",
       "    </tr>\n",
       "  </thead>\n",
       "  <tbody>\n",
       "    <tr>\n",
       "      <th>car</th>\n",
       "      <td>138</td>\n",
       "      <td>30</td>\n",
       "    </tr>\n",
       "    <tr>\n",
       "      <th>credit_card</th>\n",
       "      <td>3424</td>\n",
       "      <td>679</td>\n",
       "    </tr>\n",
       "    <tr>\n",
       "      <th>debt_consolidation</th>\n",
       "      <td>9824</td>\n",
       "      <td>2386</td>\n",
       "    </tr>\n",
       "    <tr>\n",
       "      <th>home_improvement</th>\n",
       "      <td>881</td>\n",
       "      <td>199</td>\n",
       "    </tr>\n",
       "    <tr>\n",
       "      <th>house</th>\n",
       "      <td>85</td>\n",
       "      <td>12</td>\n",
       "    </tr>\n",
       "    <tr>\n",
       "      <th>major_purchase</th>\n",
       "      <td>289</td>\n",
       "      <td>83</td>\n",
       "    </tr>\n",
       "    <tr>\n",
       "      <th>medical</th>\n",
       "      <td>135</td>\n",
       "      <td>37</td>\n",
       "    </tr>\n",
       "    <tr>\n",
       "      <th>moving</th>\n",
       "      <td>92</td>\n",
       "      <td>28</td>\n",
       "    </tr>\n",
       "    <tr>\n",
       "      <th>other</th>\n",
       "      <td>745</td>\n",
       "      <td>261</td>\n",
       "    </tr>\n",
       "    <tr>\n",
       "      <th>small_business</th>\n",
       "      <td>173</td>\n",
       "      <td>84</td>\n",
       "    </tr>\n",
       "    <tr>\n",
       "      <th>vacation</th>\n",
       "      <td>86</td>\n",
       "      <td>23</td>\n",
       "    </tr>\n",
       "    <tr>\n",
       "      <th>wedding</th>\n",
       "      <td>66</td>\n",
       "      <td>19</td>\n",
       "    </tr>\n",
       "  </tbody>\n",
       "</table>\n",
       "</div>"
      ],
      "text/plain": [
       "target                 0     1\n",
       "purpose                       \n",
       "car                  138    30\n",
       "credit_card         3424   679\n",
       "debt_consolidation  9824  2386\n",
       "home_improvement     881   199\n",
       "house                 85    12\n",
       "major_purchase       289    83\n",
       "medical              135    37\n",
       "moving                92    28\n",
       "other                745   261\n",
       "small_business       173    84\n",
       "vacation              86    23\n",
       "wedding               66    19"
      ]
     },
     "metadata": {},
     "output_type": "display_data"
    },
    {
     "name": "stdout",
     "output_type": "stream",
     "text": [
      "p-value: 0.0000000000000872350281927\n",
      "\n"
     ]
    },
    {
     "data": {
      "text/html": [
       "<div>\n",
       "<style scoped>\n",
       "    .dataframe tbody tr th:only-of-type {\n",
       "        vertical-align: middle;\n",
       "    }\n",
       "\n",
       "    .dataframe tbody tr th {\n",
       "        vertical-align: top;\n",
       "    }\n",
       "\n",
       "    .dataframe thead th {\n",
       "        text-align: right;\n",
       "    }\n",
       "</style>\n",
       "<table border=\"1\" class=\"dataframe\">\n",
       "  <thead>\n",
       "    <tr style=\"text-align: right;\">\n",
       "      <th>target</th>\n",
       "      <th>0</th>\n",
       "      <th>1</th>\n",
       "    </tr>\n",
       "    <tr>\n",
       "      <th>term</th>\n",
       "      <th></th>\n",
       "      <th></th>\n",
       "    </tr>\n",
       "  </thead>\n",
       "  <tbody>\n",
       "    <tr>\n",
       "      <th>36 months</th>\n",
       "      <td>12416</td>\n",
       "      <td>2437</td>\n",
       "    </tr>\n",
       "    <tr>\n",
       "      <th>60 months</th>\n",
       "      <td>3522</td>\n",
       "      <td>1404</td>\n",
       "    </tr>\n",
       "  </tbody>\n",
       "</table>\n",
       "</div>"
      ],
      "text/plain": [
       "target          0     1\n",
       "term                   \n",
       " 36 months  12416  2437\n",
       " 60 months   3522  1404"
      ]
     },
     "metadata": {},
     "output_type": "display_data"
    },
    {
     "name": "stdout",
     "output_type": "stream",
     "text": [
      "p-value: 0.0000000000000000000000000\n"
     ]
    }
   ],
   "source": [
    "# We will use Chi-square test for independence for categorical variables:\n",
    "\n",
    "for col in cat.columns:\n",
    "    table = pd.crosstab(cat[col], ycat)\n",
    "    print()\n",
    "    display(table)\n",
    "    _, pval, _, expected_table = scipy.stats.chi2_contingency(table)\n",
    "    print(f\"p-value: {pval:.25f}\")"
   ]
  },
  {
   "cell_type": "code",
   "execution_count": 54,
   "id": "f62f6d74",
   "metadata": {},
   "outputs": [],
   "source": [
    "# Keep all features as p-value < 0.05"
   ]
  },
  {
   "cell_type": "code",
   "execution_count": 55,
   "id": "90969a98",
   "metadata": {},
   "outputs": [],
   "source": [
    "#Encoding and transformation: encoding and transforming the categorical variables into numeric ones.\n",
    "df = pd.get_dummies(df, columns=[\"grade\",\"term\",\"home_ownership\",\"purpose\"])"
   ]
  },
  {
   "cell_type": "code",
   "execution_count": 56,
   "id": "8c5039c6",
   "metadata": {},
   "outputs": [
    {
     "data": {
      "text/html": [
       "<div>\n",
       "<style scoped>\n",
       "    .dataframe tbody tr th:only-of-type {\n",
       "        vertical-align: middle;\n",
       "    }\n",
       "\n",
       "    .dataframe tbody tr th {\n",
       "        vertical-align: top;\n",
       "    }\n",
       "\n",
       "    .dataframe thead th {\n",
       "        text-align: right;\n",
       "    }\n",
       "</style>\n",
       "<table border=\"1\" class=\"dataframe\">\n",
       "  <thead>\n",
       "    <tr style=\"text-align: right;\">\n",
       "      <th></th>\n",
       "      <th>annual_inc</th>\n",
       "      <th>short_emp</th>\n",
       "      <th>emp_length_num</th>\n",
       "      <th>dti</th>\n",
       "      <th>last_delinq_none</th>\n",
       "      <th>revol_util</th>\n",
       "      <th>total_rec_late_fee</th>\n",
       "      <th>bad_loan</th>\n",
       "      <th>grade_A</th>\n",
       "      <th>grade_B</th>\n",
       "      <th>...</th>\n",
       "      <th>purpose_debt_consolidation</th>\n",
       "      <th>purpose_home_improvement</th>\n",
       "      <th>purpose_house</th>\n",
       "      <th>purpose_major_purchase</th>\n",
       "      <th>purpose_medical</th>\n",
       "      <th>purpose_moving</th>\n",
       "      <th>purpose_other</th>\n",
       "      <th>purpose_small_business</th>\n",
       "      <th>purpose_vacation</th>\n",
       "      <th>purpose_wedding</th>\n",
       "    </tr>\n",
       "  </thead>\n",
       "  <tbody>\n",
       "    <tr>\n",
       "      <th>0</th>\n",
       "      <td>100000.0</td>\n",
       "      <td>1</td>\n",
       "      <td>1</td>\n",
       "      <td>26.27</td>\n",
       "      <td>1</td>\n",
       "      <td>43.2</td>\n",
       "      <td>0.0</td>\n",
       "      <td>0</td>\n",
       "      <td>1</td>\n",
       "      <td>0</td>\n",
       "      <td>...</td>\n",
       "      <td>0</td>\n",
       "      <td>0</td>\n",
       "      <td>0</td>\n",
       "      <td>0</td>\n",
       "      <td>0</td>\n",
       "      <td>0</td>\n",
       "      <td>0</td>\n",
       "      <td>0</td>\n",
       "      <td>0</td>\n",
       "      <td>0</td>\n",
       "    </tr>\n",
       "    <tr>\n",
       "      <th>1</th>\n",
       "      <td>83000.0</td>\n",
       "      <td>0</td>\n",
       "      <td>4</td>\n",
       "      <td>5.39</td>\n",
       "      <td>0</td>\n",
       "      <td>21.5</td>\n",
       "      <td>0.0</td>\n",
       "      <td>0</td>\n",
       "      <td>1</td>\n",
       "      <td>0</td>\n",
       "      <td>...</td>\n",
       "      <td>0</td>\n",
       "      <td>0</td>\n",
       "      <td>0</td>\n",
       "      <td>0</td>\n",
       "      <td>0</td>\n",
       "      <td>0</td>\n",
       "      <td>0</td>\n",
       "      <td>0</td>\n",
       "      <td>0</td>\n",
       "      <td>0</td>\n",
       "    </tr>\n",
       "    <tr>\n",
       "      <th>2</th>\n",
       "      <td>78000.0</td>\n",
       "      <td>0</td>\n",
       "      <td>11</td>\n",
       "      <td>18.45</td>\n",
       "      <td>1</td>\n",
       "      <td>46.3</td>\n",
       "      <td>0.0</td>\n",
       "      <td>1</td>\n",
       "      <td>0</td>\n",
       "      <td>0</td>\n",
       "      <td>...</td>\n",
       "      <td>1</td>\n",
       "      <td>0</td>\n",
       "      <td>0</td>\n",
       "      <td>0</td>\n",
       "      <td>0</td>\n",
       "      <td>0</td>\n",
       "      <td>0</td>\n",
       "      <td>0</td>\n",
       "      <td>0</td>\n",
       "      <td>0</td>\n",
       "    </tr>\n",
       "    <tr>\n",
       "      <th>3</th>\n",
       "      <td>37536.0</td>\n",
       "      <td>0</td>\n",
       "      <td>6</td>\n",
       "      <td>12.28</td>\n",
       "      <td>0</td>\n",
       "      <td>10.7</td>\n",
       "      <td>0.0</td>\n",
       "      <td>1</td>\n",
       "      <td>0</td>\n",
       "      <td>0</td>\n",
       "      <td>...</td>\n",
       "      <td>0</td>\n",
       "      <td>0</td>\n",
       "      <td>0</td>\n",
       "      <td>0</td>\n",
       "      <td>1</td>\n",
       "      <td>0</td>\n",
       "      <td>0</td>\n",
       "      <td>0</td>\n",
       "      <td>0</td>\n",
       "      <td>0</td>\n",
       "    </tr>\n",
       "    <tr>\n",
       "      <th>4</th>\n",
       "      <td>65000.0</td>\n",
       "      <td>0</td>\n",
       "      <td>11</td>\n",
       "      <td>11.26</td>\n",
       "      <td>0</td>\n",
       "      <td>15.2</td>\n",
       "      <td>0.0</td>\n",
       "      <td>0</td>\n",
       "      <td>0</td>\n",
       "      <td>0</td>\n",
       "      <td>...</td>\n",
       "      <td>1</td>\n",
       "      <td>0</td>\n",
       "      <td>0</td>\n",
       "      <td>0</td>\n",
       "      <td>0</td>\n",
       "      <td>0</td>\n",
       "      <td>0</td>\n",
       "      <td>0</td>\n",
       "      <td>0</td>\n",
       "      <td>0</td>\n",
       "    </tr>\n",
       "  </tbody>\n",
       "</table>\n",
       "<p>5 rows × 32 columns</p>\n",
       "</div>"
      ],
      "text/plain": [
       "   annual_inc  short_emp  emp_length_num    dti  last_delinq_none  revol_util  \\\n",
       "0    100000.0          1               1  26.27                 1        43.2   \n",
       "1     83000.0          0               4   5.39                 0        21.5   \n",
       "2     78000.0          0              11  18.45                 1        46.3   \n",
       "3     37536.0          0               6  12.28                 0        10.7   \n",
       "4     65000.0          0              11  11.26                 0        15.2   \n",
       "\n",
       "   total_rec_late_fee  bad_loan  grade_A  grade_B  ...  \\\n",
       "0                 0.0         0        1        0  ...   \n",
       "1                 0.0         0        1        0  ...   \n",
       "2                 0.0         1        0        0  ...   \n",
       "3                 0.0         1        0        0  ...   \n",
       "4                 0.0         0        0        0  ...   \n",
       "\n",
       "   purpose_debt_consolidation  purpose_home_improvement  purpose_house  \\\n",
       "0                           0                         0              0   \n",
       "1                           0                         0              0   \n",
       "2                           1                         0              0   \n",
       "3                           0                         0              0   \n",
       "4                           1                         0              0   \n",
       "\n",
       "   purpose_major_purchase  purpose_medical  purpose_moving  purpose_other  \\\n",
       "0                       0                0               0              0   \n",
       "1                       0                0               0              0   \n",
       "2                       0                0               0              0   \n",
       "3                       0                1               0              0   \n",
       "4                       0                0               0              0   \n",
       "\n",
       "   purpose_small_business  purpose_vacation  purpose_wedding  \n",
       "0                       0                 0                0  \n",
       "1                       0                 0                0  \n",
       "2                       0                 0                0  \n",
       "3                       0                 0                0  \n",
       "4                       0                 0                0  \n",
       "\n",
       "[5 rows x 32 columns]"
      ]
     },
     "execution_count": 56,
     "metadata": {},
     "output_type": "execute_result"
    }
   ],
   "source": [
    "df.head()"
   ]
  },
  {
   "cell_type": "code",
   "execution_count": 57,
   "id": "8ff5b2b7",
   "metadata": {},
   "outputs": [],
   "source": [
    "# ROC Curve: Area Under the Curve\n",
    "\n",
    "def auc_roc_plot(y_test, y_preds):\n",
    "    fpr, tpr, thresholds = roc_curve(y_test,y_preds)\n",
    "    roc_auc = auc(fpr, tpr)\n",
    "    print(roc_auc)\n",
    "    plt.title('Receiver Operating Characteristic')\n",
    "    plt.plot(fpr, tpr, 'b', label = 'AUC = %0.2f' % roc_auc)\n",
    "    plt.legend(loc = 'lower right')\n",
    "    plt.plot([0, 1], [0, 1],'r--')\n",
    "    plt.ylabel('True Positive Rate')\n",
    "    plt.xlabel('False Positive Rate')\n",
    "    plt.show()"
   ]
  },
  {
   "cell_type": "code",
   "execution_count": 58,
   "id": "731ca82a",
   "metadata": {},
   "outputs": [],
   "source": [
    "df.to_csv(\"Encoded and cleaned data.csv\")"
   ]
  },
  {
   "cell_type": "code",
   "execution_count": 59,
   "id": "c85fa32e",
   "metadata": {},
   "outputs": [],
   "source": [
    "#MODEL 1: LOGISTIC REGRESSION\n",
    "\n",
    "#train test split \n",
    "\n",
    "train_set_lr, test_set_lr = train_test_split(df, test_size = 0.2, random_state = seed)\n",
    "X_train_lr = train_set_lr.drop(['bad_loan'], axis = 1)\n",
    "y_train_lr = train_set_lr['bad_loan']\n",
    "X_test_lr = test_set_lr.drop(['bad_loan'], axis = 1)\n",
    "y_test_lr = test_set_lr['bad_loan']"
   ]
  },
  {
   "cell_type": "code",
   "execution_count": 72,
   "id": "774f6e82",
   "metadata": {},
   "outputs": [],
   "source": [
    "X_train_lr_nograde = X_train_lr.drop(['grade_A','grade_B','grade_C','grade_D','grade_E','grade_F','grade_G'],axis=1)\n",
    "X_test_lr_nograde = X_test_lr.drop(['grade_A','grade_B','grade_C','grade_D','grade_E','grade_F','grade_G'],axis=1)"
   ]
  },
  {
   "cell_type": "code",
   "execution_count": 60,
   "id": "e539d645",
   "metadata": {},
   "outputs": [],
   "source": [
    "#Normalizing the train and test data using min max scaler\n",
    "\n",
    "scaler_lr = MinMaxScaler()\n",
    "features_names = X_train_lr.columns\n",
    "X_train_lr = scaler_lr.fit_transform(X_train_lr)\n",
    "X_train_lr = pd.DataFrame(X_train_lr, columns = features_names)\n",
    "X_test_lr = scaler_lr.transform(X_test_lr)\n",
    "X_test_lr = pd.DataFrame(X_test_lr, columns = features_names)"
   ]
  },
  {
   "cell_type": "code",
   "execution_count": 61,
   "id": "c8d71370",
   "metadata": {},
   "outputs": [],
   "source": [
    "lr = LogisticRegression(max_iter = 1000, solver = 'lbfgs', random_state = seed, class_weight = 'balanced' )\n",
    "parameters = {'C':[0.001, 0.01, 0.1, 1, 10, 100]}\n",
    "clf_lr = GridSearchCV(lr, parameters, cv = 5).fit(X_train_lr, y_train_lr)"
   ]
  },
  {
   "cell_type": "code",
   "execution_count": 62,
   "id": "5e535f44",
   "metadata": {},
   "outputs": [
    {
     "data": {
      "text/html": [
       "<style>#sk-container-id-1 {color: black;background-color: white;}#sk-container-id-1 pre{padding: 0;}#sk-container-id-1 div.sk-toggleable {background-color: white;}#sk-container-id-1 label.sk-toggleable__label {cursor: pointer;display: block;width: 100%;margin-bottom: 0;padding: 0.3em;box-sizing: border-box;text-align: center;}#sk-container-id-1 label.sk-toggleable__label-arrow:before {content: \"▸\";float: left;margin-right: 0.25em;color: #696969;}#sk-container-id-1 label.sk-toggleable__label-arrow:hover:before {color: black;}#sk-container-id-1 div.sk-estimator:hover label.sk-toggleable__label-arrow:before {color: black;}#sk-container-id-1 div.sk-toggleable__content {max-height: 0;max-width: 0;overflow: hidden;text-align: left;background-color: #f0f8ff;}#sk-container-id-1 div.sk-toggleable__content pre {margin: 0.2em;color: black;border-radius: 0.25em;background-color: #f0f8ff;}#sk-container-id-1 input.sk-toggleable__control:checked~div.sk-toggleable__content {max-height: 200px;max-width: 100%;overflow: auto;}#sk-container-id-1 input.sk-toggleable__control:checked~label.sk-toggleable__label-arrow:before {content: \"▾\";}#sk-container-id-1 div.sk-estimator input.sk-toggleable__control:checked~label.sk-toggleable__label {background-color: #d4ebff;}#sk-container-id-1 div.sk-label input.sk-toggleable__control:checked~label.sk-toggleable__label {background-color: #d4ebff;}#sk-container-id-1 input.sk-hidden--visually {border: 0;clip: rect(1px 1px 1px 1px);clip: rect(1px, 1px, 1px, 1px);height: 1px;margin: -1px;overflow: hidden;padding: 0;position: absolute;width: 1px;}#sk-container-id-1 div.sk-estimator {font-family: monospace;background-color: #f0f8ff;border: 1px dotted black;border-radius: 0.25em;box-sizing: border-box;margin-bottom: 0.5em;}#sk-container-id-1 div.sk-estimator:hover {background-color: #d4ebff;}#sk-container-id-1 div.sk-parallel-item::after {content: \"\";width: 100%;border-bottom: 1px solid gray;flex-grow: 1;}#sk-container-id-1 div.sk-label:hover label.sk-toggleable__label {background-color: #d4ebff;}#sk-container-id-1 div.sk-serial::before {content: \"\";position: absolute;border-left: 1px solid gray;box-sizing: border-box;top: 0;bottom: 0;left: 50%;z-index: 0;}#sk-container-id-1 div.sk-serial {display: flex;flex-direction: column;align-items: center;background-color: white;padding-right: 0.2em;padding-left: 0.2em;position: relative;}#sk-container-id-1 div.sk-item {position: relative;z-index: 1;}#sk-container-id-1 div.sk-parallel {display: flex;align-items: stretch;justify-content: center;background-color: white;position: relative;}#sk-container-id-1 div.sk-item::before, #sk-container-id-1 div.sk-parallel-item::before {content: \"\";position: absolute;border-left: 1px solid gray;box-sizing: border-box;top: 0;bottom: 0;left: 50%;z-index: -1;}#sk-container-id-1 div.sk-parallel-item {display: flex;flex-direction: column;z-index: 1;position: relative;background-color: white;}#sk-container-id-1 div.sk-parallel-item:first-child::after {align-self: flex-end;width: 50%;}#sk-container-id-1 div.sk-parallel-item:last-child::after {align-self: flex-start;width: 50%;}#sk-container-id-1 div.sk-parallel-item:only-child::after {width: 0;}#sk-container-id-1 div.sk-dashed-wrapped {border: 1px dashed gray;margin: 0 0.4em 0.5em 0.4em;box-sizing: border-box;padding-bottom: 0.4em;background-color: white;}#sk-container-id-1 div.sk-label label {font-family: monospace;font-weight: bold;display: inline-block;line-height: 1.2em;}#sk-container-id-1 div.sk-label-container {text-align: center;}#sk-container-id-1 div.sk-container {/* jupyter's `normalize.less` sets `[hidden] { display: none; }` but bootstrap.min.css set `[hidden] { display: none !important; }` so we also need the `!important` here to be able to override the default hidden behavior on the sphinx rendered scikit-learn.org. See: https://github.com/scikit-learn/scikit-learn/issues/21755 */display: inline-block !important;position: relative;}#sk-container-id-1 div.sk-text-repr-fallback {display: none;}</style><div id=\"sk-container-id-1\" class=\"sk-top-container\"><div class=\"sk-text-repr-fallback\"><pre>GridSearchCV(cv=5,\n",
       "             estimator=LogisticRegression(class_weight=&#x27;balanced&#x27;,\n",
       "                                          max_iter=1000, random_state=42),\n",
       "             param_grid={&#x27;C&#x27;: [0.001, 0.01, 0.1, 1, 10, 100]})</pre><b>In a Jupyter environment, please rerun this cell to show the HTML representation or trust the notebook. <br />On GitHub, the HTML representation is unable to render, please try loading this page with nbviewer.org.</b></div><div class=\"sk-container\" hidden><div class=\"sk-item sk-dashed-wrapped\"><div class=\"sk-label-container\"><div class=\"sk-label sk-toggleable\"><input class=\"sk-toggleable__control sk-hidden--visually\" id=\"sk-estimator-id-1\" type=\"checkbox\" ><label for=\"sk-estimator-id-1\" class=\"sk-toggleable__label sk-toggleable__label-arrow\">GridSearchCV</label><div class=\"sk-toggleable__content\"><pre>GridSearchCV(cv=5,\n",
       "             estimator=LogisticRegression(class_weight=&#x27;balanced&#x27;,\n",
       "                                          max_iter=1000, random_state=42),\n",
       "             param_grid={&#x27;C&#x27;: [0.001, 0.01, 0.1, 1, 10, 100]})</pre></div></div></div><div class=\"sk-parallel\"><div class=\"sk-parallel-item\"><div class=\"sk-item\"><div class=\"sk-label-container\"><div class=\"sk-label sk-toggleable\"><input class=\"sk-toggleable__control sk-hidden--visually\" id=\"sk-estimator-id-2\" type=\"checkbox\" ><label for=\"sk-estimator-id-2\" class=\"sk-toggleable__label sk-toggleable__label-arrow\">estimator: LogisticRegression</label><div class=\"sk-toggleable__content\"><pre>LogisticRegression(class_weight=&#x27;balanced&#x27;, max_iter=1000, random_state=42)</pre></div></div></div><div class=\"sk-serial\"><div class=\"sk-item\"><div class=\"sk-estimator sk-toggleable\"><input class=\"sk-toggleable__control sk-hidden--visually\" id=\"sk-estimator-id-3\" type=\"checkbox\" ><label for=\"sk-estimator-id-3\" class=\"sk-toggleable__label sk-toggleable__label-arrow\">LogisticRegression</label><div class=\"sk-toggleable__content\"><pre>LogisticRegression(class_weight=&#x27;balanced&#x27;, max_iter=1000, random_state=42)</pre></div></div></div></div></div></div></div></div></div></div>"
      ],
      "text/plain": [
       "GridSearchCV(cv=5,\n",
       "             estimator=LogisticRegression(class_weight='balanced',\n",
       "                                          max_iter=1000, random_state=42),\n",
       "             param_grid={'C': [0.001, 0.01, 0.1, 1, 10, 100]})"
      ]
     },
     "execution_count": 62,
     "metadata": {},
     "output_type": "execute_result"
    }
   ],
   "source": [
    "clf_lr"
   ]
  },
  {
   "cell_type": "code",
   "execution_count": 63,
   "id": "36721574",
   "metadata": {},
   "outputs": [
    {
     "data": {
      "text/html": [
       "<style>#sk-container-id-2 {color: black;background-color: white;}#sk-container-id-2 pre{padding: 0;}#sk-container-id-2 div.sk-toggleable {background-color: white;}#sk-container-id-2 label.sk-toggleable__label {cursor: pointer;display: block;width: 100%;margin-bottom: 0;padding: 0.3em;box-sizing: border-box;text-align: center;}#sk-container-id-2 label.sk-toggleable__label-arrow:before {content: \"▸\";float: left;margin-right: 0.25em;color: #696969;}#sk-container-id-2 label.sk-toggleable__label-arrow:hover:before {color: black;}#sk-container-id-2 div.sk-estimator:hover label.sk-toggleable__label-arrow:before {color: black;}#sk-container-id-2 div.sk-toggleable__content {max-height: 0;max-width: 0;overflow: hidden;text-align: left;background-color: #f0f8ff;}#sk-container-id-2 div.sk-toggleable__content pre {margin: 0.2em;color: black;border-radius: 0.25em;background-color: #f0f8ff;}#sk-container-id-2 input.sk-toggleable__control:checked~div.sk-toggleable__content {max-height: 200px;max-width: 100%;overflow: auto;}#sk-container-id-2 input.sk-toggleable__control:checked~label.sk-toggleable__label-arrow:before {content: \"▾\";}#sk-container-id-2 div.sk-estimator input.sk-toggleable__control:checked~label.sk-toggleable__label {background-color: #d4ebff;}#sk-container-id-2 div.sk-label input.sk-toggleable__control:checked~label.sk-toggleable__label {background-color: #d4ebff;}#sk-container-id-2 input.sk-hidden--visually {border: 0;clip: rect(1px 1px 1px 1px);clip: rect(1px, 1px, 1px, 1px);height: 1px;margin: -1px;overflow: hidden;padding: 0;position: absolute;width: 1px;}#sk-container-id-2 div.sk-estimator {font-family: monospace;background-color: #f0f8ff;border: 1px dotted black;border-radius: 0.25em;box-sizing: border-box;margin-bottom: 0.5em;}#sk-container-id-2 div.sk-estimator:hover {background-color: #d4ebff;}#sk-container-id-2 div.sk-parallel-item::after {content: \"\";width: 100%;border-bottom: 1px solid gray;flex-grow: 1;}#sk-container-id-2 div.sk-label:hover label.sk-toggleable__label {background-color: #d4ebff;}#sk-container-id-2 div.sk-serial::before {content: \"\";position: absolute;border-left: 1px solid gray;box-sizing: border-box;top: 0;bottom: 0;left: 50%;z-index: 0;}#sk-container-id-2 div.sk-serial {display: flex;flex-direction: column;align-items: center;background-color: white;padding-right: 0.2em;padding-left: 0.2em;position: relative;}#sk-container-id-2 div.sk-item {position: relative;z-index: 1;}#sk-container-id-2 div.sk-parallel {display: flex;align-items: stretch;justify-content: center;background-color: white;position: relative;}#sk-container-id-2 div.sk-item::before, #sk-container-id-2 div.sk-parallel-item::before {content: \"\";position: absolute;border-left: 1px solid gray;box-sizing: border-box;top: 0;bottom: 0;left: 50%;z-index: -1;}#sk-container-id-2 div.sk-parallel-item {display: flex;flex-direction: column;z-index: 1;position: relative;background-color: white;}#sk-container-id-2 div.sk-parallel-item:first-child::after {align-self: flex-end;width: 50%;}#sk-container-id-2 div.sk-parallel-item:last-child::after {align-self: flex-start;width: 50%;}#sk-container-id-2 div.sk-parallel-item:only-child::after {width: 0;}#sk-container-id-2 div.sk-dashed-wrapped {border: 1px dashed gray;margin: 0 0.4em 0.5em 0.4em;box-sizing: border-box;padding-bottom: 0.4em;background-color: white;}#sk-container-id-2 div.sk-label label {font-family: monospace;font-weight: bold;display: inline-block;line-height: 1.2em;}#sk-container-id-2 div.sk-label-container {text-align: center;}#sk-container-id-2 div.sk-container {/* jupyter's `normalize.less` sets `[hidden] { display: none; }` but bootstrap.min.css set `[hidden] { display: none !important; }` so we also need the `!important` here to be able to override the default hidden behavior on the sphinx rendered scikit-learn.org. See: https://github.com/scikit-learn/scikit-learn/issues/21755 */display: inline-block !important;position: relative;}#sk-container-id-2 div.sk-text-repr-fallback {display: none;}</style><div id=\"sk-container-id-2\" class=\"sk-top-container\"><div class=\"sk-text-repr-fallback\"><pre>LogisticRegression(C=100, class_weight=&#x27;balanced&#x27;, max_iter=1000,\n",
       "                   random_state=42)</pre><b>In a Jupyter environment, please rerun this cell to show the HTML representation or trust the notebook. <br />On GitHub, the HTML representation is unable to render, please try loading this page with nbviewer.org.</b></div><div class=\"sk-container\" hidden><div class=\"sk-item\"><div class=\"sk-estimator sk-toggleable\"><input class=\"sk-toggleable__control sk-hidden--visually\" id=\"sk-estimator-id-4\" type=\"checkbox\" checked><label for=\"sk-estimator-id-4\" class=\"sk-toggleable__label sk-toggleable__label-arrow\">LogisticRegression</label><div class=\"sk-toggleable__content\"><pre>LogisticRegression(C=100, class_weight=&#x27;balanced&#x27;, max_iter=1000,\n",
       "                   random_state=42)</pre></div></div></div></div></div>"
      ],
      "text/plain": [
       "LogisticRegression(C=100, class_weight='balanced', max_iter=1000,\n",
       "                   random_state=42)"
      ]
     },
     "execution_count": 63,
     "metadata": {},
     "output_type": "execute_result"
    }
   ],
   "source": [
    "clf_lr.best_estimator_"
   ]
  },
  {
   "cell_type": "code",
   "execution_count": 64,
   "id": "22feb8e5",
   "metadata": {},
   "outputs": [],
   "source": [
    "y_preds_lr = clf_lr.predict_proba(X_test_lr)[:,1]"
   ]
  },
  {
   "cell_type": "code",
   "execution_count": 65,
   "id": "cb90f184",
   "metadata": {},
   "outputs": [
    {
     "ename": "ValueError",
     "evalue": "Classification metrics can't handle a mix of binary and continuous targets",
     "output_type": "error",
     "traceback": [
      "\u001b[1;31m---------------------------------------------------------------------------\u001b[0m",
      "\u001b[1;31mValueError\u001b[0m                                Traceback (most recent call last)",
      "\u001b[1;32mC:\\Users\\ABHIMA~1\\AppData\\Local\\Temp/ipykernel_3864/3889905129.py\u001b[0m in \u001b[0;36m<module>\u001b[1;34m\u001b[0m\n\u001b[0;32m      2\u001b[0m \u001b[1;32mfrom\u001b[0m \u001b[0msklearn\u001b[0m\u001b[1;33m.\u001b[0m\u001b[0mmetrics\u001b[0m \u001b[1;32mimport\u001b[0m \u001b[0mprecision_score\u001b[0m\u001b[1;33m\u001b[0m\u001b[1;33m\u001b[0m\u001b[0m\n\u001b[0;32m      3\u001b[0m \u001b[0mfpr\u001b[0m\u001b[1;33m,\u001b[0m \u001b[0mtpr\u001b[0m\u001b[1;33m,\u001b[0m \u001b[0mthresholds\u001b[0m \u001b[1;33m=\u001b[0m \u001b[0mroc_curve\u001b[0m\u001b[1;33m(\u001b[0m\u001b[0my_test_lr\u001b[0m\u001b[1;33m,\u001b[0m\u001b[0my_preds_lr\u001b[0m\u001b[1;33m)\u001b[0m\u001b[1;33m\u001b[0m\u001b[1;33m\u001b[0m\u001b[0m\n\u001b[1;32m----> 4\u001b[1;33m \u001b[0mprint\u001b[0m\u001b[1;33m(\u001b[0m\u001b[1;34m\"The precision is:\"\u001b[0m\u001b[1;33m,\u001b[0m\u001b[0mprecision_score\u001b[0m\u001b[1;33m(\u001b[0m\u001b[0my_test_lr\u001b[0m\u001b[1;33m,\u001b[0m\u001b[0my_preds_lr\u001b[0m\u001b[1;33m,\u001b[0m\u001b[0maverage\u001b[0m\u001b[1;33m=\u001b[0m\u001b[1;34m'binary'\u001b[0m\u001b[1;33m)\u001b[0m\u001b[1;33m)\u001b[0m\u001b[1;33m\u001b[0m\u001b[1;33m\u001b[0m\u001b[0m\n\u001b[0m\u001b[0;32m      5\u001b[0m \u001b[0mauc_roc_plot\u001b[0m\u001b[1;33m(\u001b[0m\u001b[0my_test_lr\u001b[0m\u001b[1;33m,\u001b[0m \u001b[0my_preds_lr\u001b[0m\u001b[1;33m)\u001b[0m\u001b[1;33m\u001b[0m\u001b[1;33m\u001b[0m\u001b[0m\n",
      "\u001b[1;32m~\\AppData\\Local\\Programs\\Python\\Python310\\lib\\site-packages\\sklearn\\metrics\\_classification.py\u001b[0m in \u001b[0;36mprecision_score\u001b[1;34m(y_true, y_pred, labels, pos_label, average, sample_weight, zero_division)\u001b[0m\n\u001b[0;32m   1767\u001b[0m     \u001b[0marray\u001b[0m\u001b[1;33m(\u001b[0m\u001b[1;33m[\u001b[0m\u001b[1;36m0.5\u001b[0m\u001b[1;33m,\u001b[0m \u001b[1;36m1.\u001b[0m \u001b[1;33m,\u001b[0m \u001b[1;36m1.\u001b[0m \u001b[1;33m]\u001b[0m\u001b[1;33m)\u001b[0m\u001b[1;33m\u001b[0m\u001b[1;33m\u001b[0m\u001b[0m\n\u001b[0;32m   1768\u001b[0m     \"\"\"\n\u001b[1;32m-> 1769\u001b[1;33m     p, _, _, _ = precision_recall_fscore_support(\n\u001b[0m\u001b[0;32m   1770\u001b[0m         \u001b[0my_true\u001b[0m\u001b[1;33m,\u001b[0m\u001b[1;33m\u001b[0m\u001b[1;33m\u001b[0m\u001b[0m\n\u001b[0;32m   1771\u001b[0m         \u001b[0my_pred\u001b[0m\u001b[1;33m,\u001b[0m\u001b[1;33m\u001b[0m\u001b[1;33m\u001b[0m\u001b[0m\n",
      "\u001b[1;32m~\\AppData\\Local\\Programs\\Python\\Python310\\lib\\site-packages\\sklearn\\metrics\\_classification.py\u001b[0m in \u001b[0;36mprecision_recall_fscore_support\u001b[1;34m(y_true, y_pred, beta, labels, pos_label, average, warn_for, sample_weight, zero_division)\u001b[0m\n\u001b[0;32m   1554\u001b[0m     \u001b[1;32mif\u001b[0m \u001b[0mbeta\u001b[0m \u001b[1;33m<\u001b[0m \u001b[1;36m0\u001b[0m\u001b[1;33m:\u001b[0m\u001b[1;33m\u001b[0m\u001b[1;33m\u001b[0m\u001b[0m\n\u001b[0;32m   1555\u001b[0m         \u001b[1;32mraise\u001b[0m \u001b[0mValueError\u001b[0m\u001b[1;33m(\u001b[0m\u001b[1;34m\"beta should be >=0 in the F-beta score\"\u001b[0m\u001b[1;33m)\u001b[0m\u001b[1;33m\u001b[0m\u001b[1;33m\u001b[0m\u001b[0m\n\u001b[1;32m-> 1556\u001b[1;33m     \u001b[0mlabels\u001b[0m \u001b[1;33m=\u001b[0m \u001b[0m_check_set_wise_labels\u001b[0m\u001b[1;33m(\u001b[0m\u001b[0my_true\u001b[0m\u001b[1;33m,\u001b[0m \u001b[0my_pred\u001b[0m\u001b[1;33m,\u001b[0m \u001b[0maverage\u001b[0m\u001b[1;33m,\u001b[0m \u001b[0mlabels\u001b[0m\u001b[1;33m,\u001b[0m \u001b[0mpos_label\u001b[0m\u001b[1;33m)\u001b[0m\u001b[1;33m\u001b[0m\u001b[1;33m\u001b[0m\u001b[0m\n\u001b[0m\u001b[0;32m   1557\u001b[0m \u001b[1;33m\u001b[0m\u001b[0m\n\u001b[0;32m   1558\u001b[0m     \u001b[1;31m# Calculate tp_sum, pred_sum, true_sum ###\u001b[0m\u001b[1;33m\u001b[0m\u001b[1;33m\u001b[0m\u001b[0m\n",
      "\u001b[1;32m~\\AppData\\Local\\Programs\\Python\\Python310\\lib\\site-packages\\sklearn\\metrics\\_classification.py\u001b[0m in \u001b[0;36m_check_set_wise_labels\u001b[1;34m(y_true, y_pred, average, labels, pos_label)\u001b[0m\n\u001b[0;32m   1355\u001b[0m         \u001b[1;32mraise\u001b[0m \u001b[0mValueError\u001b[0m\u001b[1;33m(\u001b[0m\u001b[1;34m\"average has to be one of \"\u001b[0m \u001b[1;33m+\u001b[0m \u001b[0mstr\u001b[0m\u001b[1;33m(\u001b[0m\u001b[0maverage_options\u001b[0m\u001b[1;33m)\u001b[0m\u001b[1;33m)\u001b[0m\u001b[1;33m\u001b[0m\u001b[1;33m\u001b[0m\u001b[0m\n\u001b[0;32m   1356\u001b[0m \u001b[1;33m\u001b[0m\u001b[0m\n\u001b[1;32m-> 1357\u001b[1;33m     \u001b[0my_type\u001b[0m\u001b[1;33m,\u001b[0m \u001b[0my_true\u001b[0m\u001b[1;33m,\u001b[0m \u001b[0my_pred\u001b[0m \u001b[1;33m=\u001b[0m \u001b[0m_check_targets\u001b[0m\u001b[1;33m(\u001b[0m\u001b[0my_true\u001b[0m\u001b[1;33m,\u001b[0m \u001b[0my_pred\u001b[0m\u001b[1;33m)\u001b[0m\u001b[1;33m\u001b[0m\u001b[1;33m\u001b[0m\u001b[0m\n\u001b[0m\u001b[0;32m   1358\u001b[0m     \u001b[1;31m# Convert to Python primitive type to avoid NumPy type / Python str\u001b[0m\u001b[1;33m\u001b[0m\u001b[1;33m\u001b[0m\u001b[0m\n\u001b[0;32m   1359\u001b[0m     \u001b[1;31m# comparison. See https://github.com/numpy/numpy/issues/6784\u001b[0m\u001b[1;33m\u001b[0m\u001b[1;33m\u001b[0m\u001b[0m\n",
      "\u001b[1;32m~\\AppData\\Local\\Programs\\Python\\Python310\\lib\\site-packages\\sklearn\\metrics\\_classification.py\u001b[0m in \u001b[0;36m_check_targets\u001b[1;34m(y_true, y_pred)\u001b[0m\n\u001b[0;32m     91\u001b[0m \u001b[1;33m\u001b[0m\u001b[0m\n\u001b[0;32m     92\u001b[0m     \u001b[1;32mif\u001b[0m \u001b[0mlen\u001b[0m\u001b[1;33m(\u001b[0m\u001b[0my_type\u001b[0m\u001b[1;33m)\u001b[0m \u001b[1;33m>\u001b[0m \u001b[1;36m1\u001b[0m\u001b[1;33m:\u001b[0m\u001b[1;33m\u001b[0m\u001b[1;33m\u001b[0m\u001b[0m\n\u001b[1;32m---> 93\u001b[1;33m         raise ValueError(\n\u001b[0m\u001b[0;32m     94\u001b[0m             \"Classification metrics can't handle a mix of {0} and {1} targets\".format(\n\u001b[0;32m     95\u001b[0m                 \u001b[0mtype_true\u001b[0m\u001b[1;33m,\u001b[0m \u001b[0mtype_pred\u001b[0m\u001b[1;33m\u001b[0m\u001b[1;33m\u001b[0m\u001b[0m\n",
      "\u001b[1;31mValueError\u001b[0m: Classification metrics can't handle a mix of binary and continuous targets"
     ]
    }
   ],
   "source": [
    "#ROC curve\n",
    "from sklearn.metrics import precision_score\n",
    "fpr, tpr, thresholds = roc_curve(y_test_lr,y_preds_lr)\n",
    "print(\"The precision is:\",precision_score(y_test_lr,y_preds_lr,average='binary'))\n",
    "auc_roc_plot(y_test_lr, y_preds_lr)"
   ]
  },
  {
   "cell_type": "code",
   "execution_count": 63,
   "id": "323135d4",
   "metadata": {},
   "outputs": [
    {
     "name": "stdout",
     "output_type": "stream",
     "text": [
      "Precision is: 0.3051834595224228\n",
      "Recall is: 0.6986666666666667\n",
      "F1 score is: 0.4248074584515606\n"
     ]
    },
    {
     "name": "stderr",
     "output_type": "stream",
     "text": [
      "C:\\Users\\Abhimanyu\\AppData\\Local\\Programs\\Python\\Python310\\lib\\site-packages\\sklearn\\utils\\deprecation.py:87: FutureWarning: Function plot_confusion_matrix is deprecated; Function `plot_confusion_matrix` is deprecated in 1.0 and will be removed in 1.2. Use one of the class methods: ConfusionMatrixDisplay.from_predictions or ConfusionMatrixDisplay.from_estimator.\n",
      "  warnings.warn(msg, category=FutureWarning)\n"
     ]
    },
    {
     "data": {
      "image/png": "[encoded data removed]",
      "text/plain": [
       "<Figure size 432x288 with 2 Axes>"
      ]
     },
     "metadata": {
      "needs_background": "light"
     },
     "output_type": "display_data"
    }
   ],
   "source": [
    "# Confusion Matrix display\n",
    "plot_confusion_matrix(clf_lr, X_test_lr, y_test_lr, values_format=\".4g\", cmap=\"Blues\");\n",
    "\n",
    "# Creating assignments for Final Results\n",
    "tn, fp, fn, tp = confusion_matrix(y_test_lr == 1, y_preds_lr > 0.5).ravel()\n",
    "tn_lr = tn\n",
    "fp_lr = fp\n",
    "fn_lr = fn\n",
    "tp_lr = tp\n",
    "\n",
    "precision = tp/(tp+fp)\n",
    "recall = tp/(tp+fn)\n",
    "print(\"Precision is:\",tp/(tp+fp))\n",
    "print(\"Recall is:\",tp/(tp+fn))\n",
    "print(\"F1 score is:\",(2*precision*recall)/(precision+recall))"
   ]
  },
  {
   "cell_type": "code",
   "execution_count": 64,
   "id": "7d24f57a",
   "metadata": {},
   "outputs": [],
   "source": [
    "# MODEL 2: KNN\n",
    "\n",
    "df_knn = df\n",
    "\n",
    "# Train test split\n",
    "train_set_knn, test_set_knn = train_test_split(df_knn, test_size = 0.2, random_state = seed)\n",
    "X_train_knn = train_set_knn.drop(['bad_loan'], axis = 1)\n",
    "y_train_knn = train_set_knn['bad_loan']\n",
    "X_test_knn = test_set_knn.drop(['bad_loan'], axis = 1)\n",
    "y_test_knn = test_set_knn['bad_loan']"
   ]
  },
  {
   "cell_type": "code",
   "execution_count": 65,
   "id": "2755d13a",
   "metadata": {},
   "outputs": [],
   "source": [
    "# Normalizing train and test data using min max scaler\n",
    "\n",
    "scaler_knn = MinMaxScaler()\n",
    "features_names = X_train_knn.columns\n",
    "X_train_knn = scaler_knn.fit_transform(X_train_knn)\n",
    "X_train_knn = pd.DataFrame(X_train_knn, columns = features_names)\n",
    "X_test_knn = scaler_knn.transform(X_test_knn)\n",
    "X_test_knn = pd.DataFrame(X_test_knn, columns = features_names)"
   ]
  },
  {
   "cell_type": "code",
   "execution_count": 66,
   "id": "4365703f",
   "metadata": {},
   "outputs": [
    {
     "name": "stdout",
     "output_type": "stream",
     "text": [
      "Accuracy for k = 2  is: 0.788928210313448\n",
      "Accuracy for k = 7  is: 0.7917087967644085\n",
      "Accuracy for k = 12  is: 0.8063700707785642\n",
      "Accuracy for k = 17  is: 0.80788675429727\n",
      "Accuracy for k = 22  is: 0.8116784630940344\n",
      "Accuracy for k = 27  is: 0.8071284125379171\n",
      "Accuracy for k = 32  is: 0.8091506572295247\n",
      "Accuracy for k = 37  is: 0.8086450960566228\n",
      "Accuracy for k = 42  is: 0.8104145601617796\n",
      "Accuracy for k = 47  is: 0.8101617795753286\n",
      "Accuracy for k = 52  is: 0.8111729019211324\n",
      "Accuracy for k = 57  is: 0.8119312436804853\n",
      "Accuracy for k = 62  is: 0.8114256825075834\n",
      "Accuracy for k = 67  is: 0.8116784630940344\n",
      "Accuracy for k = 72  is: 0.8109201213346815\n",
      "Accuracy for k = 77  is: 0.8106673407482305\n",
      "Accuracy for k = 82  is: 0.8106673407482305\n",
      "Accuracy for k = 87  is: 0.8109201213346815\n",
      "Accuracy for k = 92  is: 0.8104145601617796\n",
      "Accuracy for k = 97  is: 0.8104145601617796\n",
      "Accuracy for k = 102  is: 0.8104145601617796\n",
      "Accuracy for k = 107  is: 0.8104145601617796\n",
      "Accuracy for k = 112  is: 0.8104145601617796\n",
      "Accuracy for k = 117  is: 0.8104145601617796\n",
      "Accuracy for k = 122  is: 0.8104145601617796\n",
      "Accuracy for k = 127  is: 0.8104145601617796\n",
      "Accuracy for k = 132  is: 0.8104145601617796\n",
      "Accuracy for k = 137  is: 0.8104145601617796\n",
      "Accuracy for k = 142  is: 0.8104145601617796\n",
      "Accuracy for k = 147  is: 0.8104145601617796\n",
      "Accuracy for k = 152  is: 0.8104145601617796\n",
      "Accuracy for k = 157  is: 0.8104145601617796\n",
      "Accuracy for k = 162  is: 0.8104145601617796\n",
      "Accuracy for k = 167  is: 0.8104145601617796\n",
      "Accuracy for k = 172  is: 0.8104145601617796\n",
      "Accuracy for k = 177  is: 0.8104145601617796\n",
      "Accuracy for k = 182  is: 0.8104145601617796\n",
      "Accuracy for k = 187  is: 0.8104145601617796\n",
      "Accuracy for k = 192  is: 0.8104145601617796\n",
      "Accuracy for k = 197  is: 0.8104145601617796\n"
     ]
    }
   ],
   "source": [
    "for k in range(1, 200, 5):\n",
    "    k = k + 1\n",
    "    knn = KNeighborsClassifier(n_neighbors = k).fit(X_train_knn, y_train_knn)\n",
    "    acc = knn.score(X_test_knn, y_test_knn)\n",
    "    print('Accuracy for k =', k, ' is:', acc)"
   ]
  },
  {
   "cell_type": "code",
   "execution_count": 75,
   "id": "6140a1f5",
   "metadata": {},
   "outputs": [],
   "source": [
    "knn = KNeighborsClassifier(n_neighbors = 22, weights='uniform').fit(X_train_knn, y_train_knn)\n",
    "y_preds_knn = knn.predict(X_test_knn)\n"
   ]
  },
  {
   "cell_type": "code",
   "execution_count": 74,
   "id": "574ad619",
   "metadata": {},
   "outputs": [
    {
     "name": "stdout",
     "output_type": "stream",
     "text": [
      "Precision is: 0.5609756097560976\n",
      "Recall is: 0.030666666666666665\n",
      "F1 score is: 0.05815423514538559\n"
     ]
    },
    {
     "name": "stderr",
     "output_type": "stream",
     "text": [
      "C:\\Users\\Abhimanyu\\AppData\\Local\\Programs\\Python\\Python310\\lib\\site-packages\\sklearn\\utils\\deprecation.py:87: FutureWarning: Function plot_confusion_matrix is deprecated; Function `plot_confusion_matrix` is deprecated in 1.0 and will be removed in 1.2. Use one of the class methods: ConfusionMatrixDisplay.from_predictions or ConfusionMatrixDisplay.from_estimator.\n",
      "  warnings.warn(msg, category=FutureWarning)\n"
     ]
    },
    {
     "data": {
      "image/png": "[encoded data removed]",
      "text/plain": [
       "<Figure size 432x288 with 2 Axes>"
      ]
     },
     "metadata": {
      "needs_background": "light"
     },
     "output_type": "display_data"
    }
   ],
   "source": [
    "tn, fp, fn, tp = confusion_matrix(y_test_knn == 1, y_preds_knn > 0.5).ravel()\n",
    "tn_knn = tn\n",
    "fp_knn = fp\n",
    "fn_knn = fn\n",
    "tp_knn = tp\n",
    "\n",
    "precision = tp/(tp+fp)\n",
    "recall = tp/(tp+fn)\n",
    "print(\"Precision is:\",tp/(tp+fp))\n",
    "print(\"Recall is:\",tp/(tp+fn))\n",
    "print(\"F1 score is:\",(2*precision*recall)/(precision+recall))\n",
    "\n",
    "plot_confusion_matrix(knn, X_test_knn, y_test_knn, values_format=\".4g\", cmap=\"Blues\");"
   ]
  },
  {
   "cell_type": "code",
   "execution_count": 76,
   "id": "7d33cc49",
   "metadata": {},
   "outputs": [
    {
     "name": "stdout",
     "output_type": "stream",
     "text": [
      "0.5125260969016427\n"
     ]
    },
    {
     "data": {
      "image/png": "[encoded data removed]",
      "text/plain": [
       "<Figure size 432x288 with 1 Axes>"
      ]
     },
     "metadata": {
      "needs_background": "light"
     },
     "output_type": "display_data"
    }
   ],
   "source": [
    "#Plotting ROC curve \n",
    "\n",
    "auc_roc_plot(y_test_knn, y_preds_knn)\n"
   ]
  },
  {
   "cell_type": "code",
   "execution_count": 77,
   "id": "316f0256",
   "metadata": {},
   "outputs": [],
   "source": [
    "#MODEL 3: Support Vector Machines\n",
    "df_svm= df\n",
    "\n",
    "#Train test split\n",
    "train_set_svc, test_set_svc = train_test_split(df_svm, test_size = 0.2, random_state = seed)\n",
    "X_train_svc = train_set_svc.drop(['bad_loan'], axis = 1)\n",
    "y_train_svc = train_set_svc['bad_loan']\n",
    "X_test_svc = test_set_svc.drop(['bad_loan'], axis = 1)\n",
    "y_test_svc = test_set_svc['bad_loan']"
   ]
  },
  {
   "cell_type": "code",
   "execution_count": 78,
   "id": "47bf2278",
   "metadata": {},
   "outputs": [],
   "source": [
    "# Standardization of train and test data\n",
    "zscore_svc = StandardScaler()\n",
    "features_names = X_train_svc.columns\n",
    "X_train_svc = zscore_svc.fit_transform(X_train_svc)\n",
    "X_train_svc = pd.DataFrame(X_train_svc, columns = features_names)\n",
    "X_test_svc = zscore_svc.transform(X_test_svc)\n",
    "X_test_svc = pd.DataFrame(X_test_svc, columns = features_names)"
   ]
  },
  {
   "cell_type": "code",
   "execution_count": 79,
   "id": "879280dc",
   "metadata": {},
   "outputs": [
    {
     "name": "stdout",
     "output_type": "stream",
     "text": [
      "[LibSVM][LibSVM][LibSVM][LibSVM][LibSVM][LibSVM][LibSVM][LibSVM][LibSVM][LibSVM][LibSVM][LibSVM][LibSVM][LibSVM][LibSVM][LibSVM]"
     ]
    }
   ],
   "source": [
    "svc = SVC(random_state=seed, class_weight='balanced',probability=True, verbose=True)\n",
    "parameters = {'C':[0.1, 1, 10]}\n",
    "clf_svc = GridSearchCV(svc, parameters, cv = 5).fit(X_train_svc, y_train_svc)"
   ]
  },
  {
   "cell_type": "code",
   "execution_count": 80,
   "id": "7139e488",
   "metadata": {},
   "outputs": [],
   "source": [
    "y_preds_svc = clf_svc.predict_proba(X_test_svc)[:,1]"
   ]
  },
  {
   "cell_type": "code",
   "execution_count": 81,
   "id": "f7b263cb",
   "metadata": {},
   "outputs": [
    {
     "name": "stdout",
     "output_type": "stream",
     "text": [
      "0.6726205032231234\n"
     ]
    },
    {
     "data": {
      "image/png": "[encoded data removed]",
      "text/plain": [
       "<Figure size 432x288 with 1 Axes>"
      ]
     },
     "metadata": {
      "needs_background": "light"
     },
     "output_type": "display_data"
    }
   ],
   "source": [
    "auc_roc_plot(y_test_svc, y_preds_svc)"
   ]
  },
  {
   "cell_type": "code",
   "execution_count": 83,
   "id": "560ad0b2",
   "metadata": {},
   "outputs": [
    {
     "name": "stderr",
     "output_type": "stream",
     "text": [
      "C:\\Users\\Abhimanyu\\AppData\\Local\\Programs\\Python\\Python310\\lib\\site-packages\\sklearn\\utils\\deprecation.py:87: FutureWarning: Function plot_confusion_matrix is deprecated; Function `plot_confusion_matrix` is deprecated in 1.0 and will be removed in 1.2. Use one of the class methods: ConfusionMatrixDisplay.from_predictions or ConfusionMatrixDisplay.from_estimator.\n",
      "  warnings.warn(msg, category=FutureWarning)\n"
     ]
    },
    {
     "name": "stdout",
     "output_type": "stream",
     "text": [
      "Precision is: 0.0\n",
      "Recall is: 0.0\n",
      "F1 score is: nan\n"
     ]
    },
    {
     "name": "stderr",
     "output_type": "stream",
     "text": [
      "C:\\Users\\ABHIMA~1\\AppData\\Local\\Temp/ipykernel_74284/3982678758.py:15: RuntimeWarning: invalid value encountered in double_scalars\n",
      "  print(\"F1 score is:\",(2*precision*recall)/(precision+recall))\n"
     ]
    },
    {
     "data": {
      "image/png": "[encoded data removed]",
      "text/plain": [
       "<Figure size 432x288 with 2 Axes>"
      ]
     },
     "metadata": {
      "needs_background": "light"
     },
     "output_type": "display_data"
    }
   ],
   "source": [
    "# Confusion Matrix display\n",
    "plot_confusion_matrix(clf_svc, X_test_svc, y_test_svc, values_format=\".4g\", cmap=\"Blues\");\n",
    "\n",
    "# Creating assignments for Final Results\n",
    "tn, fp, fn, tp = confusion_matrix(y_test_svc == 1, y_preds_svc > 0.5).ravel()\n",
    "tn_svc = tn\n",
    "fp_svc = fp\n",
    "fn_svc = fn\n",
    "tp_svc = tp\n",
    "\n",
    "precision = tp/(tp+fp)\n",
    "recall = tp/(tp+fn)\n",
    "print(\"Precision is:\",tp/(tp+fp))\n",
    "print(\"Recall is:\",tp/(tp+fn))\n",
    "print(\"F1 score is:\",(2*precision*recall)/(precision+recall))"
   ]
  },
  {
   "cell_type": "code",
   "execution_count": null,
   "id": "7a97c98d",
   "metadata": {},
   "outputs": [],
   "source": []
  },
  {
   "cell_type": "code",
   "execution_count": null,
   "id": "b7da3892",
   "metadata": {},
   "outputs": [],
   "source": []
  },
  {
   "cell_type": "code",
   "execution_count": null,
   "id": "be1440c4",
   "metadata": {},
   "outputs": [],
   "source": []
  },
  {
   "cell_type": "code",
   "execution_count": null,
   "id": "a57e5e1d",
   "metadata": {},
   "outputs": [],
   "source": []
  }
 ],
 "metadata": {
  "kernelspec": {
   "display_name": "Python 3 (ipykernel)",
   "language": "python",
   "name": "python3"
  },
  "language_info": {
   "codemirror_mode": {
    "name": "ipython",
    "version": 3
   },
   "file_extension": ".py",
   "mimetype": "text/x-python",
   "name": "python",
   "nbconvert_exporter": "python",
   "pygments_lexer": "ipython3",
   "version": "3.10.1"
  }
 },
 "nbformat": 4,
 "nbformat_minor": 5
}
